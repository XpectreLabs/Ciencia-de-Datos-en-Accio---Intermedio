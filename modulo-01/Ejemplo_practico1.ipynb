{
  "nbformat": 4,
  "nbformat_minor": 0,
  "metadata": {
    "colab": {
      "provenance": []
    },
    "kernelspec": {
      "name": "python3",
      "display_name": "Python 3"
    },
    "language_info": {
      "name": "python"
    }
  },
  "cells": [
    {
      "cell_type": "markdown",
      "source": [
        "# Ejemplo práctico 1.1\n",
        "\n",
        "**Instrucciones**\n",
        "1. Abre Google Colab en tu navegador.\n",
        "2.\tCrea un nuevo notebook titulado \"Análisis de Ventas Mensuales\".\n",
        "\n"
      ],
      "metadata": {
        "id": "GFNS0H1EUdl6"
      }
    },
    {
      "cell_type": "code",
      "execution_count": null,
      "metadata": {
        "id": "OuMLh4bFUTQQ"
      },
      "outputs": [],
      "source": [
        "import pandas as pd\n",
        "\n",
        "df = pd.read_csv('ventas_mensuales.csv')"
      ]
    },
    {
      "cell_type": "markdown",
      "source": [
        "3.\tCarga un dataset simple en formato CSV con columnas como: \"Mes\", \"Ventas\" y \"Región\".\n",
        "4.\tUsa las siguientes funciones en Python para explorar los datos:"
      ],
      "metadata": {
        "id": "8Va8x5XOVwBK"
      }
    },
    {
      "cell_type": "code",
      "source": [
        "print(df.head())\n",
        "print(df.describe())"
      ],
      "metadata": {
        "id": "_6fOzHiEVpld"
      },
      "execution_count": null,
      "outputs": []
    },
    {
      "cell_type": "markdown",
      "source": [
        "5. Grafica las tendencias de ventas mensuales usando Matplotlib"
      ],
      "metadata": {
        "id": "AhjBLBweV_ji"
      }
    },
    {
      "cell_type": "code",
      "source": [
        "import matplotlib.pyplot as plt\n",
        "\n",
        "df.groupby('Mes')['Ventas'].sum().plot(kind='line')\n",
        "plt.title('Tendencias de Ventas Mensuales')\n",
        "plt.show()\n"
      ],
      "metadata": {
        "id": "GsAWOB0zWa75"
      },
      "execution_count": null,
      "outputs": []
    }
  ]
}
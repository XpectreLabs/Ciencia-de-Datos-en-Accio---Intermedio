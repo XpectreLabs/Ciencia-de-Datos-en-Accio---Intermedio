{
  "nbformat": 4,
  "nbformat_minor": 0,
  "metadata": {
    "colab": {
      "provenance": []
    },
    "kernelspec": {
      "name": "python3",
      "display_name": "Python 3"
    },
    "language_info": {
      "name": "python"
    }
  },
  "cells": [
    {
      "cell_type": "markdown",
      "source": [
        "# Título: Gráfico de Barras para Ventas por Región"
      ],
      "metadata": {
        "id": "9-6Ylqb6QFIK"
      }
    },
    {
      "cell_type": "markdown",
      "source": [
        "En este ejercicio, visualizarás las ventas totales por región en un gráfico de barras.Esto te permitirá comparar fácilmente el rendimiento de las diferentes regiones.\n",
        "\n",
        "Tareas:\n",
        "1. Carga el dataset `ventas_mensuales.csv` en un DataFrame de pandas.\n",
        "2. Agrupa los datos por región y calcula las ventas totales por cada región.\n",
        "3. Crea un gráfico de barras con Matplotlib para mostrar las ventas por región.\n",
        "4. Personaliza el gráfico con colores, etiquetas y títulos."
      ],
      "metadata": {
        "id": "HymIMYNwQHws"
      }
    },
    {
      "cell_type": "code",
      "execution_count": 1,
      "metadata": {
        "id": "NBaYYKbcP_A5"
      },
      "outputs": [],
      "source": [
        "# Paso 1: Importar las librerías necesarias\n",
        "import pandas as pd\n",
        "import matplotlib.pyplot as plt"
      ]
    },
    {
      "cell_type": "code",
      "source": [
        "# Paso 2: Cargar el dataset\n",
        "# Asegúrate de tener el archivo 'ventas_mensuales.csv' cargado en tu entorno de Google Colab.\n",
        "df = pd.read_csv('ventas_mensuales_largo.csv')"
      ],
      "metadata": {
        "id": "olq7RCwTQTAd"
      },
      "execution_count": 2,
      "outputs": []
    },
    {
      "cell_type": "code",
      "source": [
        "# Paso 3: Agrupar los datos por región\n",
        "ventas_por_region = df.groupby('Region')['Ventas'].sum()"
      ],
      "metadata": {
        "id": "AYPjdxUKQVAO"
      },
      "execution_count": 3,
      "outputs": []
    },
    {
      "cell_type": "code",
      "source": [
        "# Paso 4: Crear el gráfico de barras\n",
        "plt.figure(figsize=(10, 6))\n",
        "ventas_por_region.plot(kind='bar', color='coral', edgecolor='black')\n",
        "\n",
        "# Agregar títulos y etiquetas\n",
        "plt.title('Ventas Totales por Región', fontsize=16)\n",
        "plt.xlabel('Región', fontsize=14)\n",
        "plt.ylabel('Ventas Totales', fontsize=14)\n",
        "plt.xticks(rotation=45, fontsize=12)\n",
        "plt.grid(axis='y', linestyle='--', alpha=0.7)\n",
        "\n",
        "# Mostrar el gráfico\n",
        "plt.show()"
      ],
      "metadata": {
        "id": "SeGISGyCQW6J"
      },
      "execution_count": null,
      "outputs": []
    }
  ]
}
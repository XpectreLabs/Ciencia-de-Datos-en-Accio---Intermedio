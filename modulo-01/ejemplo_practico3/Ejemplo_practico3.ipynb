{
  "nbformat": 4,
  "nbformat_minor": 0,
  "metadata": {
    "colab": {
      "provenance": []
    },
    "kernelspec": {
      "name": "python3",
      "display_name": "Python 3"
    },
    "language_info": {
      "name": "python"
    }
  },
  "cells": [
    {
      "cell_type": "markdown",
      "source": [
        "# Título: Gráfico de Dispersión para Horas de Estudio vs Calificaciones\n"
      ],
      "metadata": {
        "id": "eI7rDbvPQq_d"
      }
    },
    {
      "cell_type": "markdown",
      "source": [
        "En este ejercicio, visualizarás la relación entre las horas de estudio y las calificaciones de los estudiantes utilizando un gráfico de dispersión. Esto te permitirá observar patrones o correlaciones entre ambas variables.\n",
        "\n",
        "Tareas:\n",
        "1. Carga el dataset `notas_estudiantes_largo.csv` en un DataFrame de pandas.\n",
        "2. Extrae las columnas `Horas_Estudio` y `Calificacion`.\n",
        "3. Crea un gráfico de dispersión para mostrar la relación entre las dos variables.\n",
        "4. Personaliza el gráfico con colores, etiquetas y títulos."
      ],
      "metadata": {
        "id": "D8xO-7pIQsUM"
      }
    },
    {
      "cell_type": "code",
      "execution_count": 1,
      "metadata": {
        "id": "rHbdviAqQqaL"
      },
      "outputs": [],
      "source": [
        "# Paso 1: Importar las librerías necesarias\n",
        "import pandas as pd\n",
        "import matplotlib.pyplot as plt"
      ]
    },
    {
      "cell_type": "code",
      "source": [
        "# Paso 2: Cargar el dataset\n",
        "# Asegúrate de tener el archivo 'notas_estudiante_largo.csv' cargado en tu entorno de Google Colab.\n",
        "df = pd.read_csv('notas_estudiantes_largo.csv')"
      ],
      "metadata": {
        "id": "NVbaJSmRQ4Qq"
      },
      "execution_count": 2,
      "outputs": []
    },
    {
      "cell_type": "code",
      "source": [
        "# Paso 3: Extraer las columnas necesarias\n",
        "horas_estudio = df['Horas_Estudio']\n",
        "calificaciones = df['Calificacion']"
      ],
      "metadata": {
        "id": "BmTrvWoRQ6Bk"
      },
      "execution_count": 3,
      "outputs": []
    },
    {
      "cell_type": "code",
      "source": [
        "# Paso 4: Crear el gráfico de dispersión\n",
        "plt.figure(figsize=(10, 6))\n",
        "plt.scatter(horas_estudio, calificaciones, color='blue', alpha=0.6, edgecolors='black')\n",
        "\n",
        "# Agregar títulos y etiquetas\n",
        "plt.title('Relación entre Horas de Estudio y Calificaciones', fontsize=16)\n",
        "plt.xlabel('Horas de Estudio', fontsize=14)\n",
        "plt.ylabel('Calificaciones', fontsize=14)\n",
        "plt.grid(True, linestyle='--', alpha=0.7)\n",
        "\n",
        "# Mostrar el gráfico\n",
        "plt.show()"
      ],
      "metadata": {
        "id": "XoLdYmDqQ7--"
      },
      "execution_count": null,
      "outputs": []
    }
  ]
}
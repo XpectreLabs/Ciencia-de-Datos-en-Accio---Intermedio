{
  "nbformat": 4,
  "nbformat_minor": 0,
  "metadata": {
    "colab": {
      "provenance": []
    },
    "kernelspec": {
      "name": "python3",
      "display_name": "Python 3"
    },
    "language_info": {
      "name": "python"
    }
  },
  "cells": [
    {
      "cell_type": "markdown",
      "source": [
        "#Ejercicio practico 1: Análisis de Ventas Mensuales por Región\n",
        "\n",
        "\n"
      ],
      "metadata": {
        "id": "84vrbN3_ZZBB"
      }
    },
    {
      "cell_type": "markdown",
      "source": [
        "\n",
        "En este ejercicio, explorarás un dataset de ventas mensuales y generarás un gráfico de barras para visualizar las ventas totales por región. Además, utilizarás algunas funciones básicas de pandas para entender mejor los datos antes de visualizarlos.\n",
        "\n",
        "Tareas:\n",
        "1. Carga el dataset `ventas_mensuales.csv` en un DataFrame de pandas.\n",
        "2. Explora el contenido del dataset usando las funciones `info()` y `describe()`.\n",
        "3. Agrupa las ventas por región y calcula las ventas totales por cada región.\n",
        "4. Crea un gráfico de barras con Matplotlib para mostrar las ventas por región."
      ],
      "metadata": {
        "id": "Szn6zJvnmc8u"
      }
    },
    {
      "cell_type": "code",
      "source": [
        "# Paso 1: Importar las librerías necesarias\n",
        "# -------------------------------------------\n",
        "# Antes de comenzar, asegúrate de tener instaladas las librerías necesarias.\n",
        "# Si alguna no está instalada, puedes usar `!pip install nombre_libreria`.\n"
      ],
      "metadata": {
        "id": "_k_tjSx1m7fd"
      },
      "execution_count": null,
      "outputs": []
    },
    {
      "cell_type": "code",
      "source": [
        "# Paso 2: Cargar el dataset\n",
        "# -------------------------------------------\n",
        "# Asegúrate de tener el archivo 'ventas_mensuales.csv' cargado en tu entorno de Google Colab.\n",
        "# Puedes usar la opción \"Archivos\" en Colab para subir el archivo."
      ],
      "metadata": {
        "id": "CEG-udR0m__W"
      },
      "execution_count": null,
      "outputs": []
    },
    {
      "cell_type": "code",
      "source": [
        "# Ver las primeras filas del dataset para asegurarte de que se cargó correctamente"
      ],
      "metadata": {
        "id": "jgKd-7-7nFJ7"
      },
      "execution_count": null,
      "outputs": []
    },
    {
      "cell_type": "code",
      "source": [
        "# Paso 3: Explorar el dataset\n",
        "# -------------------------------------------\n",
        "# Usa las funciones info() y describe() para conocer más detalles sobre el dataset.\n"
      ],
      "metadata": {
        "id": "MWyUypr6nKBp"
      },
      "execution_count": null,
      "outputs": []
    },
    {
      "cell_type": "code",
      "source": [
        "# Paso 5: Crear un gráfico de barras\n",
        "# -------------------------------------------\n",
        "# Crear el gráfico de barras con las ventas por región."
      ],
      "metadata": {
        "id": "glN0e1t4nQL7"
      },
      "execution_count": null,
      "outputs": []
    }
  ]
}
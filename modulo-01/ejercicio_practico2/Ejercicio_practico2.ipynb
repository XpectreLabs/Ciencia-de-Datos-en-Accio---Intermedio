{
  "nbformat": 4,
  "nbformat_minor": 0,
  "metadata": {
    "colab": {
      "provenance": []
    },
    "kernelspec": {
      "name": "python3",
      "display_name": "Python 3"
    },
    "language_info": {
      "name": "python"
    }
  },
  "cells": [
    {
      "cell_type": "markdown",
      "source": [
        "# Ejercicio práctico 2: Análisis Estadístico de Notas de Estudiantes"
      ],
      "metadata": {
        "id": "ODdEsy8HIN-q"
      }
    },
    {
      "cell_type": "markdown",
      "source": [
        "En este ejercicio, utilizarás el dataset `notas_estudiante_largo` para calcular métricas estadísticas importantes: media, mediana y desviación estándar. Estas métricas te ayudarán a entender cómo se distribuyen las horas de estudio y las calificaciones de los estudiantes.\n",
        "\n",
        "Tareas:\n",
        "1. Carga el dataset `notas_estudiante_largo.csv` en un DataFrame de pandas.\n",
        "2. Extrae las columnas `Horas_Estudio` y `Calificacion` como arreglos de Numpy.\n",
        "3. Calcula la media, mediana y desviación estándar para ambas columnas usando Numpy.\n",
        "4. Imprime los resultados con un formato claro y ordenado."
      ],
      "metadata": {
        "id": "NoGOhzJMIiSp"
      }
    },
    {
      "cell_type": "code",
      "execution_count": null,
      "metadata": {
        "id": "VI-5s7igIMKP"
      },
      "outputs": [],
      "source": [
        "# Paso 1: Importar las librerías necesarias\n",
        "# -------------------------------------------\n",
        "# Antes de comenzar, asegúrate de tener instaladas las librerías necesarias.\n"
      ]
    },
    {
      "cell_type": "code",
      "source": [
        "# Paso 2: Cargar el dataset\n",
        "# -------------------------------------------\n",
        "# Asegúrate de tener el archivo 'notas_estudiante_largo.csv' cargado en tu entorno de Google Colab.\n",
        "# Usa la opción \"Archivos\" en Colab para subir el archivo.\n",
        "\n",
        "# Cargar el archivo CSV en un DataFrame"
      ],
      "metadata": {
        "id": "uHyh66H9IuQn"
      },
      "execution_count": null,
      "outputs": []
    },
    {
      "cell_type": "code",
      "source": [
        "# Paso 3: Extraer las columnas necesarias\n",
        "# -------------------------------------------\n",
        "# Extrae las columnas 'Horas_Estudio' y 'Calificacion' como arreglos de Numpy.\n"
      ],
      "metadata": {
        "id": "GfR8tLqeIzmz"
      },
      "execution_count": null,
      "outputs": []
    },
    {
      "cell_type": "code",
      "source": [
        "# Paso 4: Calcular las métricas estadísticas\n",
        "# -------------------------------------------\n",
        "# Usa las funciones de Numpy para calcular la media, mediana y desviación estándar."
      ],
      "metadata": {
        "id": "k8I632p2I2v4"
      },
      "execution_count": null,
      "outputs": []
    },
    {
      "cell_type": "code",
      "source": [
        "# Paso 5: Imprimir los resultados\n",
        "# -------------------------------------------\n",
        "# Muestra las métricas calculadas con un formato claro."
      ],
      "metadata": {
        "id": "p0OBo1BpI7VX"
      },
      "execution_count": null,
      "outputs": []
    }
  ]
}
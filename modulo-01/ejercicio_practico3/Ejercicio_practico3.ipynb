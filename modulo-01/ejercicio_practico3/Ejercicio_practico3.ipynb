{
  "nbformat": 4,
  "nbformat_minor": 0,
  "metadata": {
    "colab": {
      "provenance": []
    },
    "kernelspec": {
      "name": "python3",
      "display_name": "Python 3"
    },
    "language_info": {
      "name": "python"
    }
  },
  "cells": [
    {
      "cell_type": "markdown",
      "source": [
        "# Título: Visualización de Datos con Histogramas\n"
      ],
      "metadata": {
        "id": "c1uLl0q8M3sp"
      }
    },
    {
      "cell_type": "markdown",
      "source": [
        "En este ejercicio, aprenderás a graficar histogramas para analizar la distribución de las horas de estudio y las calificaciones de los estudiantes. Esto te permitirá identificar patrones o tendencias en el dataset `notas_estudiante_largo`.\n",
        "\n",
        "Tareas:\n",
        "1. Carga el dataset `notas_estudiante_largo.csv` en un DataFrame de pandas.\n",
        "2. Extrae las columnas `Horas_Estudio` y `Calificacion`.\n",
        "3. Crea histogramas para visualizar la distribución de las horas de estudio y las calificaciones.\n",
        "4. Personaliza los gráficos con títulos, etiquetas y colores."
      ],
      "metadata": {
        "id": "In7zR7veM7Vd"
      }
    },
    {
      "cell_type": "code",
      "execution_count": null,
      "metadata": {
        "id": "QR18QUz2MbsA"
      },
      "outputs": [],
      "source": [
        "# Paso 1: Importar las librerías necesarias\n",
        "# -------------------------------------------\n",
        "# Antes de comenzar, asegúrate de tener instaladas las librerías necesarias.\n"
      ]
    },
    {
      "cell_type": "code",
      "source": [
        "# Paso 2: Cargar el dataset\n",
        "# -------------------------------------------\n",
        "# Asegúrate de tener el archivo 'notas_estudiante_largo.csv' cargado en tu entorno de Google Colab.\n",
        "# Usa la opción \"Archivos\" en Colab para subir el archivo.\n",
        "\n",
        "# Cargar el archivo CSV en un DataFrame"
      ],
      "metadata": {
        "id": "e5e8yuo5NC8h"
      },
      "execution_count": null,
      "outputs": []
    },
    {
      "cell_type": "code",
      "source": [
        "# Paso 3: Extraer las columnas necesarias\n",
        "# -------------------------------------------\n",
        "# Extrae las columnas 'Horas_Estudio' y 'Calificacion' para crear los histogramas."
      ],
      "metadata": {
        "id": "pTe_0_LNNFSP"
      },
      "execution_count": null,
      "outputs": []
    },
    {
      "cell_type": "code",
      "source": [
        "# Paso 4: Graficar histogramas\n",
        "# -------------------------------------------\n",
        "# Usa Matplotlib para graficar los histogramas de las columnas extraídas."
      ],
      "metadata": {
        "id": "oL0JLRJ9NHO_"
      },
      "execution_count": null,
      "outputs": []
    }
  ]
}
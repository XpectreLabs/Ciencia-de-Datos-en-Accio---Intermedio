{
 "cells": [
  {
   "cell_type": "markdown",
   "id": "68c8316f",
   "metadata": {},
   "source": [
    "### Ejercicio Unificado del Módulo 1: Análisis Rápido de un Dataset usando Pandas"
   ]
  },
  {
   "cell_type": "markdown",
   "id": "76db474a",
   "metadata": {},
   "source": [
    "En este ejercicio, realizarás un análisis rápido de un dataset utilizando herramientas básicas de Pandas. El objetivo es explorar el dataset, generar estadísticas descriptivas y detectar posibles problemas en los datos.\n",
    "\n",
    "**Tareas:**\n",
    "1. Cargar el dataset y mostrar las primeras filas.\n",
    "2. Explorar las dimensiones y tipos de datos del dataset.\n",
    "3. Generar estadísticas descriptivas para las columnas numéricas y categóricas.\n",
    "4. Identificar valores nulos y contar su frecuencia.\n",
    "5. Detectar columnas con datos inconsistentes (e.g., tipos mixtos).\n",
    "\n",
    "**Dataset:** Utilizaremos el dataset público de Kaggle **World Happiness Report**. Descárgalo y cárgalo como `world_happiness.csv`."
   ]
  },
  {
   "cell_type": "code",
   "execution_count": null,
   "id": "35d8ef3e",
   "metadata": {},
   "outputs": [],
   "source": [
    "# Paso 1: Cargar el dataset y mostrar las primeras filas\n",
    "# Usa pandas para cargar el archivo CSV"
   ]
  },
  {
   "cell_type": "code",
   "execution_count": null,
   "id": "30a0fe4f",
   "metadata": {},
   "outputs": [],
   "source": [
    "# Paso 2: Explorar las dimensiones y tipos de datos del dataset\n",
    "# Usa métodos como shape, dtypes, y info()"
   ]
  },
  {
   "cell_type": "code",
   "execution_count": null,
   "id": "c72d4f2b",
   "metadata": {},
   "outputs": [],
   "source": [
    "# Paso 3: Generar estadísticas descriptivas\n",
    "# Usa describe() y value_counts() para las columnas relevantes"
   ]
  },
  {
   "cell_type": "code",
   "execution_count": null,
   "id": "512b9dac",
   "metadata": {},
   "outputs": [],
   "source": [
    "# Paso 4: Identificar valores nulos\n",
    "# Usa isnull() y sum() para contar valores faltantes"
   ]
  },
  {
   "cell_type": "code",
   "execution_count": null,
   "id": "1b47db69",
   "metadata": {},
   "outputs": [],
   "source": [
    "# Paso 5: Detectar columnas con datos inconsistentes\n",
    "# Usa métodos como apply() y pandas.to_numeric()"
   ]
  }
 ],
 "metadata": {},
 "nbformat": 4,
 "nbformat_minor": 5
}

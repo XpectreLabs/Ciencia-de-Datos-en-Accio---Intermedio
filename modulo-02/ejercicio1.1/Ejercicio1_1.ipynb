{
  "nbformat": 4,
  "nbformat_minor": 0,
  "metadata": {
    "colab": {
      "provenance": []
    },
    "kernelspec": {
      "name": "python3",
      "display_name": "Python 3"
    },
    "language_info": {
      "name": "python"
    }
  },
  "cells": [
    {
      "cell_type": "markdown",
      "source": [
        "# Ejercicio 1.1: Crear y Explorar un DataFrame (Ejemplo)"
      ],
      "metadata": {
        "id": "igpe7tC17hgY"
      }
    },
    {
      "cell_type": "markdown",
      "source": [
        "En este ejercicio, aprenderás a crear un DataFrame a partir de un diccionario de datos, mostrar las primeras filas del DataFrame y obtener un resumen estadístico de las columnas numéricas.\n",
        "\n",
        "Tareas:\n",
        "1. Crea un DataFrame utilizando los datos proporcionados.\n",
        "2. Muestra las primeras filas del DataFrame para verificar su contenido.\n",
        "3. Obtén un resumen estadístico de las columnas numéricas utilizando la función `describe()`."
      ],
      "metadata": {
        "id": "0mIcQHLbQY-8"
      }
    },
    {
      "cell_type": "code",
      "execution_count": null,
      "metadata": {
        "id": "lO7wdn_17dlL"
      },
      "outputs": [],
      "source": [
        "# Paso 1: Importar la librería pandas\n",
        "# -------------------------------------------\n",
        "# Antes de comenzar, asegúrate de tener instalada la librería pandas.\n",
        "\n",
        "import pandas as pd"
      ]
    },
    {
      "cell_type": "code",
      "source": [
        "# Paso 2: Crear el DataFrame\n",
        "# -------------------------------------------\n",
        "# Define un diccionario con datos de ventas y crea un DataFrame a partir de él.\n",
        "\n",
        "data = {\n",
        "    \"Region\": [\"North\", \"South\", \"East\", \"West\"],\n",
        "    \"Sales\": [200, 150, 400, 300],\n",
        "    \"Profit\": [50, 30, 80, 70]\n",
        "}\n",
        "\n",
        "# Crear el DataFrame\n",
        "df = pd.DataFrame(data)"
      ],
      "metadata": {
        "id": "Q5WQT_Z2QqqJ"
      },
      "execution_count": null,
      "outputs": []
    },
    {
      "cell_type": "code",
      "source": [
        "# Paso 3: Mostrar las primeras filas\n",
        "# -------------------------------------------\n",
        "# Usa la función `head()` para mostrar las primeras filas del DataFrame.\n",
        "\n",
        "print(\"Primeras filas del DataFrame:\")\n",
        "print(df.head())"
      ],
      "metadata": {
        "id": "bNIyu713Q6xv"
      },
      "execution_count": null,
      "outputs": []
    },
    {
      "cell_type": "code",
      "source": [
        "# Paso 3: Mostrar las primeras filas\n",
        "# -------------------------------------------\n",
        "# Usa la función `head()` para mostrar las primeras filas del DataFrame.\n",
        "\n",
        "print(\"Primeras filas del DataFrame:\")\n",
        "print(df.head())"
      ],
      "metadata": {
        "id": "0gKapWygQ9E7"
      },
      "execution_count": null,
      "outputs": []
    }
  ]
}
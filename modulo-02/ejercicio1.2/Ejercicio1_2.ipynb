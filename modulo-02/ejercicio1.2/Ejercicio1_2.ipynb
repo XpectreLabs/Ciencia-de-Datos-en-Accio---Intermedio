{
  "nbformat": 4,
  "nbformat_minor": 0,
  "metadata": {
    "colab": {
      "provenance": []
    },
    "kernelspec": {
      "name": "python3",
      "display_name": "Python 3"
    },
    "language_info": {
      "name": "python"
    }
  },
  "cells": [
    {
      "cell_type": "markdown",
      "source": [
        "# Ejercicio 1.2: Selección y Filtrado de Datos en un Dataset Student(Ejemplo)"
      ],
      "metadata": {
        "id": "P-0QPn_ARyoU"
      }
    },
    {
      "cell_type": "markdown",
      "source": [
        "En este ejercicio, aprenderás a seleccionar columnas específicas y filtrar filas basándote en condiciones en un dataset.\n",
        "\n",
        "Tareas:\n",
        "1. Carga el dataset students_data.csv en un DataFrame de pandas.\n",
        "2. Selecciona las columnas `Name` y `Math` para inspeccionarlas.\n",
        "3. Filtra las filas donde la longitud del (`Math`) sea mayor a 80.\n",
        "4. Muestra las primeras filas del DataFrame filtrado."
      ],
      "metadata": {
        "id": "8iAM9hk2R0Bu"
      }
    },
    {
      "cell_type": "code",
      "execution_count": null,
      "metadata": {
        "id": "EToZhY5aRxzB"
      },
      "outputs": [],
      "source": [
        "# Paso 1: Importar la librería pandas\n",
        "# -------------------------------------------\n",
        "# Asegúrate de tener instalada la librería pandas antes de comenzar.\n",
        "\n",
        "import pandas as pd"
      ]
    },
    {
      "cell_type": "code",
      "source": [
        "# Paso 2: Cargar el dataset desde un archivo local\n",
        "# -------------------------------------------\n",
        "# Usa la opción \"Archivos\" en Google Colab para cargar el archivo `students_data.csv`.\n",
        "# Luego, utiliza la ruta al archivo para leerlo con pandas.\n",
        "\n",
        "# Carga del archivo\n",
        "df = pd.read_csv(\"students_data.csv\")\n",
        "\n",
        "# Muestra las primeras filas para confirmar que se cargó correctamente\n",
        "print(\"Primeras filas del dataset:\")\n",
        "print(df.head())"
      ],
      "metadata": {
        "id": "FSmoAKdISC2I",
        "colab": {
          "base_uri": "https://localhost:8080/"
        },
        "outputId": "c8fe640b-c5ad-44ba-8b75-fbb46016e22c"
      },
      "execution_count": null,
      "outputs": [
        {
          "output_type": "stream",
          "name": "stdout",
          "text": [
            "Primeras filas del dataset:\n",
            "   StudentID     Name  Math  Science  English\n",
            "0          1    Alice    78       72       80\n",
            "1          2      Bob    85       88       78\n",
            "2          3  Charlie    90       94       85\n",
            "3          4    Diana    65       60       65\n",
            "4          5      Eve    88       80       88\n"
          ]
        }
      ]
    },
    {
      "cell_type": "code",
      "source": [
        "# Paso 3: Seleccionar columnas específicas\n",
        "# -------------------------------------------\n",
        "# Selecciona únicamente las columnas `Name` y `Math` para visualizarlas.\n",
        "\n",
        "print(\"Selección de columnas (Name, Math):\")\n",
        "print(df[[\"Name\", \"Math\"]].head())"
      ],
      "metadata": {
        "id": "B8i5dTYrSE7g",
        "colab": {
          "base_uri": "https://localhost:8080/"
        },
        "outputId": "600727e7-092f-4d0d-8ac1-394e58c968ab"
      },
      "execution_count": null,
      "outputs": [
        {
          "output_type": "stream",
          "name": "stdout",
          "text": [
            "Selección de columnas (Name, Math):\n",
            "      Name  Math\n",
            "0    Alice    78\n",
            "1      Bob    85\n",
            "2  Charlie    90\n",
            "3    Diana    65\n",
            "4      Eve    88\n"
          ]
        }
      ]
    },
    {
      "cell_type": "code",
      "source": [
        "# Paso 4: Filtrar filas basadas en una condición\n",
        "# -------------------------------------------\n",
        "# Filtra las filas donde la columna `Math` sea mayor a 80.\n",
        "\n",
        "filtered_df = df[df[\"Math\"] > 80]\n",
        "\n",
        "# Muestra las primeras filas del DataFrame filtrado\n",
        "print(\"\\nFilas donde Math > 80:\")\n",
        "print(filtered_df.head())\n"
      ],
      "metadata": {
        "id": "YJYZPym7SGzN",
        "colab": {
          "base_uri": "https://localhost:8080/"
        },
        "outputId": "458d2298-cb8f-4c61-9b4b-687f6de1b937"
      },
      "execution_count": null,
      "outputs": [
        {
          "output_type": "stream",
          "name": "stdout",
          "text": [
            "\n",
            "Filas donde Math > 80:\n",
            "   StudentID     Name  Math  Science  English\n",
            "1          2      Bob    85       88       78\n",
            "2          3  Charlie    90       94       85\n",
            "4          5      Eve    88       80       88\n",
            "6          7    Grace    95       92       91\n",
            "7          8     Hank    82       85       80\n"
          ]
        }
      ]
    }
  ]
}
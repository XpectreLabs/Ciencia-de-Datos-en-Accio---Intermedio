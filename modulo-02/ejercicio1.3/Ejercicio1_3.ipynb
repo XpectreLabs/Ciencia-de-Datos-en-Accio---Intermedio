{
  "nbformat": 4,
  "nbformat_minor": 0,
  "metadata": {
    "colab": {
      "provenance": []
    },
    "kernelspec": {
      "name": "python3",
      "display_name": "Python 3"
    },
    "language_info": {
      "name": "python"
    }
  },
  "cells": [
    {
      "cell_type": "markdown",
      "source": [
        "#Ejercicio 1.3: Filtrado en un Dataset Público"
      ],
      "metadata": {
        "id": "IConMr3VSi-y"
      }
    },
    {
      "cell_type": "markdown",
      "source": [
        "En este ejercicio, trabajarás con el dataset público de Netflix para filtrar todas las películas lanzadas después del año 2015. Esto te ayudará a practicar la manipulación y filtrado de datos\n",
        "con pandas.\n",
        "\n",
        "Tareas:\n",
        "1. Carga el dataset de Netflix desde un archivo CSV.\n",
        "2. Inspecciona las primeras filas del dataset para familiarizarte con su estructura.\n",
        "3. Filtra todas las películas lanzadas después de 2015 utilizando la columna `release_year`.\n",
        "4. Muestra las primeras filas del DataFrame filtrado."
      ],
      "metadata": {
        "id": "dZt47J06SzZf"
      }
    },
    {
      "cell_type": "code",
      "execution_count": null,
      "metadata": {
        "id": "xgzoycFXSiJ3"
      },
      "outputs": [],
      "source": [
        "# Paso 1: Importar la librería pandas\n",
        "# -------------------------------------------\n"
      ]
    },
    {
      "cell_type": "code",
      "source": [
        "#Paso 2: Cargar el dataset\n",
        "# -------------------------------------------\n",
        "# Descarga el archivo 'netflix_titles.csv' desde Kaggle y cárgalo en tu entorno de Google Colab.\n",
        "# Usa la opción \"Archivos\" en Colab para cargar el archivo."
      ],
      "metadata": {
        "id": "czgJzu1LS7kl"
      },
      "execution_count": null,
      "outputs": []
    },
    {
      "cell_type": "code",
      "source": [
        "# Paso 3: Filtrar las películas lanzadas después de 2015\n",
        "# -------------------------------------------\n",
        "# Pista: Usa una condición para seleccionar las filas donde `release_year` sea mayor a 2015.\n"
      ],
      "metadata": {
        "id": "Urso_yslTAbu"
      },
      "execution_count": null,
      "outputs": []
    },
    {
      "cell_type": "code",
      "source": [
        "# Paso 4: Mostrar las primeras filas del DataFrame filtrado\n",
        "# -------------------------------------------\n",
        "# Imprime las primeras filas para verificar los resultados."
      ],
      "metadata": {
        "id": "MMVETQH5TDKw"
      },
      "execution_count": null,
      "outputs": []
    }
  ]
}
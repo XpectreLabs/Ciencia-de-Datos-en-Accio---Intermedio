{
  "nbformat": 4,
  "nbformat_minor": 0,
  "metadata": {
    "colab": {
      "provenance": []
    },
    "kernelspec": {
      "name": "python3",
      "display_name": "Python 3"
    },
    "language_info": {
      "name": "python"
    }
  },
  "cells": [
    {
      "cell_type": "markdown",
      "source": [
        "#Ejercicio 2.1: Manejo de Valores Nulos en un DataFrame"
      ],
      "metadata": {
        "id": "c9XFzrvoUNmi"
      }
    },
    {
      "cell_type": "markdown",
      "source": [
        "En este ejercicio, aprenderás a identificar y manejar valores nulos en un DataFrame. Reemplazarás los valores nulos de una columna con la media de los valores existentes.\n",
        "\n",
        "Tareas:\n",
        "1. Crea un DataFrame con valores nulos.\n",
        "2. Identifica la cantidad de valores nulos en cada columna utilizando la función `isnull().sum()`.\n",
        "3. Reemplaza los valores nulos en la columna `Age` con la media de los valores no nulos.\n",
        "4. Muestra el DataFrame actualizado."
      ],
      "metadata": {
        "id": "ef-j4ZupUPB5"
      }
    },
    {
      "cell_type": "code",
      "execution_count": null,
      "metadata": {
        "id": "McJuMvbjTxqN"
      },
      "outputs": [],
      "source": [
        "# Paso 1: Importar las librerías necesarias\n",
        "# -------------------------------------------\n",
        "# Asegúrate de tener instaladas las librerías pandas y numpy.\n",
        "\n",
        "import pandas as pd\n",
        "import numpy as np"
      ]
    },
    {
      "cell_type": "code",
      "source": [
        "# Paso 2: Crear el DataFrame con valores nulos\n",
        "# -------------------------------------------\n",
        "# Define un diccionario con datos, donde algunas columnas contienen valores nulos.\n",
        "\n",
        "data = {\n",
        "    \"Name\": [\"Alice\", \"Bob\", \"Charlie\", \"Diana\"],\n",
        "    \"Age\": [25, None, 30, None],\n",
        "    \"Score\": [85, 88, None, 92]\n",
        "}\n",
        "\n",
        "# Crear el DataFrame\n",
        "df = pd.DataFrame(data)\n",
        "\n",
        "# Muestra el DataFrame inicial\n",
        "print(\"DataFrame inicial:\")\n",
        "print(df)"
      ],
      "metadata": {
        "colab": {
          "base_uri": "https://localhost:8080/"
        },
        "id": "R_l_DoLiUfUg",
        "outputId": "4fe606b5-6175-482f-ab2f-30c1d46b2c86"
      },
      "execution_count": null,
      "outputs": [
        {
          "output_type": "stream",
          "name": "stdout",
          "text": [
            "DataFrame inicial:\n",
            "      Name   Age  Score\n",
            "0    Alice  25.0   85.0\n",
            "1      Bob   NaN   88.0\n",
            "2  Charlie  30.0    NaN\n",
            "3    Diana   NaN   92.0\n"
          ]
        }
      ]
    },
    {
      "cell_type": "code",
      "source": [
        "# Paso 3: Identificar valores nulos\n",
        "# -------------------------------------------\n",
        "# Usa `isnull().sum()` para contar los valores nulos en cada columna.\n",
        "\n",
        "print(\"\\nValores nulos en cada columna:\")\n",
        "print(df.isnull().sum())"
      ],
      "metadata": {
        "colab": {
          "base_uri": "https://localhost:8080/"
        },
        "id": "ncM3nTp_UhoJ",
        "outputId": "cbf58b8e-2db3-4721-bdcd-c070bc63c37f"
      },
      "execution_count": null,
      "outputs": [
        {
          "output_type": "stream",
          "name": "stdout",
          "text": [
            "\n",
            "Valores nulos en cada columna:\n",
            "Name     0\n",
            "Age      2\n",
            "Score    1\n",
            "dtype: int64\n"
          ]
        }
      ]
    },
    {
      "cell_type": "code",
      "source": [
        "# Paso 4: Reemplazar valores nulos en la columna 'Age'\n",
        "# -------------------------------------------\n",
        "# Calcula la media de la columna `Age` y reemplaza los valores nulos con esta media.\n",
        "\n",
        "mean_age = df[\"Age\"].mean()  # Calcula la media\n",
        "df[\"Age\"].fillna(mean_age, inplace=True)  # Reemplaza valores nulos con la media\n",
        "\n",
        "# Muestra el DataFrame actualizado\n",
        "print(\"\\nDataFrame después de reemplazar valores nulos en 'Age':\")\n",
        "print(df)"
      ],
      "metadata": {
        "colab": {
          "base_uri": "https://localhost:8080/"
        },
        "id": "eyWgVHYiUjz_",
        "outputId": "2eae2912-aeab-4f1d-cadf-095e83158da7"
      },
      "execution_count": null,
      "outputs": [
        {
          "output_type": "stream",
          "name": "stdout",
          "text": [
            "\n",
            "DataFrame después de reemplazar valores nulos en 'Age':\n",
            "      Name   Age  Score\n",
            "0    Alice  25.0   85.0\n",
            "1      Bob  27.5   88.0\n",
            "2  Charlie  30.0    NaN\n",
            "3    Diana  27.5   92.0\n"
          ]
        },
        {
          "output_type": "stream",
          "name": "stderr",
          "text": [
            "<ipython-input-4-a3cb93bb0385>:6: FutureWarning: A value is trying to be set on a copy of a DataFrame or Series through chained assignment using an inplace method.\n",
            "The behavior will change in pandas 3.0. This inplace method will never work because the intermediate object on which we are setting values always behaves as a copy.\n",
            "\n",
            "For example, when doing 'df[col].method(value, inplace=True)', try using 'df.method({col: value}, inplace=True)' or df[col] = df[col].method(value) instead, to perform the operation inplace on the original object.\n",
            "\n",
            "\n",
            "  df[\"Age\"].fillna(mean_age, inplace=True)  # Reemplaza valores nulos con la media\n"
          ]
        }
      ]
    }
  ]
}
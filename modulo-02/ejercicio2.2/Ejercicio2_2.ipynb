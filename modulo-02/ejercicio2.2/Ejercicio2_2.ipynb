{
  "nbformat": 4,
  "nbformat_minor": 0,
  "metadata": {
    "colab": {
      "provenance": []
    },
    "kernelspec": {
      "name": "python3",
      "display_name": "Python 3"
    },
    "language_info": {
      "name": "python"
    }
  },
  "cells": [
    {
      "cell_type": "markdown",
      "source": [
        "# Ejercicio 2.2: Manejo de Valores Atípicos (Ejemplo)"
      ],
      "metadata": {
        "id": "0A3VXBlrVFwG"
      }
    },
    {
      "cell_type": "markdown",
      "source": [
        "En este ejercicio, aprenderás a detectar y manejar valores atípicos en un dataset utilizando el método del rango intercuartílico (IQR). También visualizarás los valores atípicos mediante un boxplot.\n",
        "\n",
        "Tareas:\n",
        "1. Carga el dataset de Titanic desde una URL en un DataFrame.\n",
        "2. Calcula el rango intercuartílico (IQR) para la columna `Fare`.\n",
        "3. Filtra los datos para incluir únicamente valores dentro del rango permitido según el IQR.\n",
        "4. Visualiza los valores atípicos en la columna `Fare` utilizando un boxplot."
      ],
      "metadata": {
        "id": "kwD_SdNIVHyL"
      }
    },
    {
      "cell_type": "code",
      "execution_count": null,
      "metadata": {
        "id": "tC5j6XLHVBYE"
      },
      "outputs": [],
      "source": [
        "# Paso 1: Importar las librerías necesarias\n",
        "# -------------------------------------------\n",
        "# Asegúrate de tener instaladas las librerías pandas, numpy y matplotlib.\n",
        "\n",
        "import pandas as pd\n",
        "import numpy as np\n",
        "import matplotlib.pyplot as plt"
      ]
    },
    {
      "cell_type": "code",
      "source": [
        "# Paso 2: Cargar el dataset desde la URL\n",
        "# -------------------------------------------\n",
        "# Usa la función `read_csv` para cargar el dataset de Titanic.\n",
        "\n",
        "url = \"https://raw.githubusercontent.com/datasciencedojo/datasets/master/titanic.csv\"\n",
        "df = pd.read_csv(url)\n",
        "\n",
        "# Muestra las primeras filas del dataset para familiarizarte con su estructura\n",
        "print(\"Primeras filas del dataset:\")\n",
        "print(df.head())\n"
      ],
      "metadata": {
        "colab": {
          "base_uri": "https://localhost:8080/"
        },
        "id": "P7-DJG6JViTm",
        "outputId": "8a446630-1c4d-4f35-a69e-de64c5642951"
      },
      "execution_count": null,
      "outputs": [
        {
          "output_type": "stream",
          "name": "stdout",
          "text": [
            "Primeras filas del dataset:\n",
            "   PassengerId  Survived  Pclass  \\\n",
            "0            1         0       3   \n",
            "1            2         1       1   \n",
            "2            3         1       3   \n",
            "3            4         1       1   \n",
            "4            5         0       3   \n",
            "\n",
            "                                                Name     Sex   Age  SibSp  \\\n",
            "0                            Braund, Mr. Owen Harris    male  22.0      1   \n",
            "1  Cumings, Mrs. John Bradley (Florence Briggs Th...  female  38.0      1   \n",
            "2                             Heikkinen, Miss. Laina  female  26.0      0   \n",
            "3       Futrelle, Mrs. Jacques Heath (Lily May Peel)  female  35.0      1   \n",
            "4                           Allen, Mr. William Henry    male  35.0      0   \n",
            "\n",
            "   Parch            Ticket     Fare Cabin Embarked  \n",
            "0      0         A/5 21171   7.2500   NaN        S  \n",
            "1      0          PC 17599  71.2833   C85        C  \n",
            "2      0  STON/O2. 3101282   7.9250   NaN        S  \n",
            "3      0            113803  53.1000  C123        S  \n",
            "4      0            373450   8.0500   NaN        S  \n"
          ]
        }
      ]
    },
    {
      "cell_type": "code",
      "source": [
        "# Paso 3: Calcular el IQR para la columna `Fare`\n",
        "# -------------------------------------------\n",
        "# Obtén el primer cuartil (Q1), el tercer cuartil (Q3) y calcula el rango intercuartílico (IQR).\n",
        "\n",
        "Q1 = df[\"Fare\"].quantile(0.25)  # Primer cuartil\n",
        "Q3 = df[\"Fare\"].quantile(0.75)  # Tercer cuartil\n",
        "IQR = Q3 - Q1  # Rango intercuartílico\n",
        "\n",
        "print(\"\\nEstadísticas de Fare:\")\n",
        "print(f\"Q1: {Q1}, Q3: {Q3}, IQR: {IQR}\")"
      ],
      "metadata": {
        "colab": {
          "base_uri": "https://localhost:8080/"
        },
        "id": "SeRCHAmsVkZ2",
        "outputId": "bc0c8c8b-55c8-4f46-9f13-8ac3ef4b302d"
      },
      "execution_count": null,
      "outputs": [
        {
          "output_type": "stream",
          "name": "stdout",
          "text": [
            "\n",
            "Estadísticas de Fare:\n",
            "Q1: 7.9104, Q3: 31.0, IQR: 23.0896\n"
          ]
        }
      ]
    },
    {
      "cell_type": "code",
      "source": [
        "# Paso 4: Filtrar valores dentro del rango permitido\n",
        "# -------------------------------------------\n",
        "# Aplica la fórmula para filtrar los valores dentro del rango permitido basado en el IQR.\n",
        "\n",
        "filtered_df = df[(df[\"Fare\"] >= Q1 - 1.5 * IQR) & (df[\"Fare\"] <= Q3 + 1.5 * IQR)]\n",
        "\n",
        "# Muestra las primeras filas del DataFrame filtrado\n",
        "print(\"\\nFilas después de filtrar valores atípicos en Fare:\")\n",
        "print(filtered_df.head())\n"
      ],
      "metadata": {
        "colab": {
          "base_uri": "https://localhost:8080/"
        },
        "id": "mUIX6PANVm1z",
        "outputId": "e0923679-bdaa-449d-8415-f402234a2705"
      },
      "execution_count": null,
      "outputs": [
        {
          "output_type": "stream",
          "name": "stdout",
          "text": [
            "\n",
            "Filas después de filtrar valores atípicos en Fare:\n",
            "   PassengerId  Survived  Pclass  \\\n",
            "0            1         0       3   \n",
            "2            3         1       3   \n",
            "3            4         1       1   \n",
            "4            5         0       3   \n",
            "5            6         0       3   \n",
            "\n",
            "                                           Name     Sex   Age  SibSp  Parch  \\\n",
            "0                       Braund, Mr. Owen Harris    male  22.0      1      0   \n",
            "2                        Heikkinen, Miss. Laina  female  26.0      0      0   \n",
            "3  Futrelle, Mrs. Jacques Heath (Lily May Peel)  female  35.0      1      0   \n",
            "4                      Allen, Mr. William Henry    male  35.0      0      0   \n",
            "5                              Moran, Mr. James    male   NaN      0      0   \n",
            "\n",
            "             Ticket     Fare Cabin Embarked  \n",
            "0         A/5 21171   7.2500   NaN        S  \n",
            "2  STON/O2. 3101282   7.9250   NaN        S  \n",
            "3            113803  53.1000  C123        S  \n",
            "4            373450   8.0500   NaN        S  \n",
            "5            330877   8.4583   NaN        Q  \n"
          ]
        }
      ]
    },
    {
      "cell_type": "code",
      "source": [
        "# Paso 5: Visualizar los valores atípicos con un boxplot\n",
        "# -------------------------------------------\n",
        "# Usa Matplotlib para crear un boxplot de la columna `Fare`.\n",
        "\n",
        "plt.figure(figsize=(8, 6))\n",
        "plt.boxplot(df[\"Fare\"].dropna())\n",
        "plt.title(\"Valores Atípicos de la Tarifa (Fare)\")\n",
        "plt.ylabel(\"Tarifa (Fare)\")\n",
        "plt.show()\n"
      ],
      "metadata": {
        "colab": {
          "base_uri": "https://localhost:8080/",
          "height": 545
        },
        "id": "0-Bo2HsmVosV",
        "outputId": "0e85d0cc-f9ae-4923-b438-c446293a7025"
      },
      "execution_count": null,
      "outputs": [
        {
          "output_type": "display_data",
          "data": {
            "text/plain": [
              "<Figure size 800x600 with 1 Axes>"
            ],
            "image/png": "[encoded data removed]"
          },
          "metadata": {}
        }
      ]
    }
  ]
}
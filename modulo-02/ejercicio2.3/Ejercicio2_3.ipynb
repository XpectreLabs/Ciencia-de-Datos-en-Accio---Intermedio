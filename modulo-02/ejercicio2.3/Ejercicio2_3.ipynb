{
  "nbformat": 4,
  "nbformat_minor": 0,
  "metadata": {
    "colab": {
      "provenance": []
    },
    "kernelspec": {
      "name": "python3",
      "display_name": "Python 3"
    },
    "language_info": {
      "name": "python"
    }
  },
  "cells": [
    {
      "cell_type": "markdown",
      "source": [
        "#Ejercicio 2.3: Limpieza de un Dataset Público"
      ],
      "metadata": {
        "id": "q90L58zlWRe6"
      }
    },
    {
      "cell_type": "markdown",
      "source": [
        "En este ejercicio, trabajarás con el dataset de precios de viviendas para identificar y manejar valores nulos. También detectarás y tratarás valores atípicos en la columna `SalePrice` utilizando métodos estadísticos y visualización.\n",
        "\n",
        "Tareas:\n",
        "1. Cargar el dataset de Housing Prices desde un archivo CSV.\n",
        "2. Identificar valores nulos en el dataset.\n",
        "3. Manejar valores nulos utilizando el método `fillna()` o eliminándolos según corresponda.\n",
        "4. Detectar valores atípicos en la columna `SalePrice` utilizando el rango intercuartílico (IQR).\n",
        "5. Visualizar los valores atípicos en la columna `SalePrice` mediante un boxplot.\n"
      ],
      "metadata": {
        "id": "blF_DAirWsSE"
      }
    },
    {
      "cell_type": "code",
      "execution_count": null,
      "metadata": {
        "id": "a9onl7CIWOJo"
      },
      "outputs": [],
      "source": [
        "import pandas as pd\n",
        "\n",
        "# Cargar el dataset de Housing Prices (Kaggle: https://www.kaggle.com/c/house-prices-advanced-regression-techniques/data)\n",
        "# Descargue el dataset y cárguelo en su entorno\n",
        "df = pd.read_csv(\"housing_prices.csv\")\n",
        "\n",
        "# Ejercicio: Identificar y manejar valores nulos en el dataset.\n",
        "# Ejercicio: Detectar y tratar valores atípicos en la columna 'SalePrice'.\n",
        "# Pista: Use métodos como isnull(), fillna(), describe(), y visualización (boxplots)."
      ]
    }
  ]
}
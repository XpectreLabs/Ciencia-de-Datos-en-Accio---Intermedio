{
 "cells": [
  {
   "cell_type": "markdown",
   "id": "38cd233d",
   "metadata": {},
   "source": [
    "### Ejercicio Unificado del Módulo 2: Limpieza y Transformación de Datos"
   ]
  },
  {
   "cell_type": "markdown",
   "id": "30f5f100",
   "metadata": {},
   "source": [
    "En este ejercicio, trabajarás con un dataset público que contiene inconsistencias comunes en los datos. El objetivo es limpiar y transformar el dataset para que sea adecuado para el análisis. Las tareas incluyen:\n",
    "\n",
    "1. Identificar y manejar valores nulos.\n",
    "2. Eliminar filas o columnas duplicadas.\n",
    "3. Transformar columnas con formatos inconsistentes (e.g., texto en mayúsculas/minúsculas, fechas).\n",
    "4. Generar nuevas columnas basadas en transformaciones lógicas o cálculos.\n",
    "\n",
    "**Dataset:** Utilizaremos el Housing Prices Dataset de Kaggle. Descárgalo y cárgalo como `housing_prices.csv`."
   ]
  },
  {
   "cell_type": "code",
   "execution_count": null,
   "id": "802cd144",
   "metadata": {},
   "outputs": [],
   "source": [
    "# Paso 1: Cargar el dataset y explorar los datos\n",
    "# Usa pandas para cargar el archivo CSV"
   ]
  },
  {
   "cell_type": "code",
   "execution_count": null,
   "id": "b2cbf92b",
   "metadata": {},
   "outputs": [],
   "source": [
    "# Paso 2: Identificar y manejar valores nulos\n",
    "# Usa métodos como isnull(), fillna() o dropna()"
   ]
  },
  {
   "cell_type": "code",
   "execution_count": null,
   "id": "239cc578",
   "metadata": {},
   "outputs": [],
   "source": [
    "# Paso 3: Eliminar filas o columnas duplicadas\n",
    "# Usa drop_duplicates()"
   ]
  },
  {
   "cell_type": "code",
   "execution_count": null,
   "id": "17aaa975",
   "metadata": {},
   "outputs": [],
   "source": [
    "# Paso 4: Transformar columnas inconsistentes\n",
    "# Aplica transformaciones en columnas de texto o fechas"
   ]
  },
  {
   "cell_type": "code",
   "execution_count": null,
   "id": "7e5ca47c",
   "metadata": {},
   "outputs": [],
   "source": [
    "# Paso 5: Generar nuevas columnas\n",
    "# Crea columnas basadas en cálculos o condiciones"
   ]
  }
 ],
 "metadata": {},
 "nbformat": 4,
 "nbformat_minor": 5
}

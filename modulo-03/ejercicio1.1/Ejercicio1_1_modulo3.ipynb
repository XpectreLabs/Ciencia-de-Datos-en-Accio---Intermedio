{
  "nbformat": 4,
  "nbformat_minor": 0,
  "metadata": {
    "colab": {
      "provenance": []
    },
    "kernelspec": {
      "name": "python3",
      "display_name": "Python 3"
    },
    "language_info": {
      "name": "python"
    }
  },
  "cells": [
    {
      "cell_type": "markdown",
      "source": [
        "# Ejercicio 1.1: Resumen Estadístico Básico (Ejemplo)"
      ],
      "metadata": {
        "id": "HEzPs1MlmIEH"
      }
    },
    {
      "cell_type": "markdown",
      "source": [
        "n este ejercicio, cargarás un dataset simple llamado `simple_sales_data.csv` para realizar análisis básicos de datos. Aprenderás a calcular estadísticas descriptivas y a identificar el producto con mayores ventas promedio.\n",
        "\n",
        "Tareas:\n",
        "1. Cargar el dataset `simple_sales_data.csv`.\n",
        "2. Mostrar estadísticas descriptivas del dataset.\n",
        "3. Calcular las ventas promedio por producto y encontrar el producto con mayores ventas promedio.\n",
        "\n"
      ],
      "metadata": {
        "id": "GhD7PtN6moA8"
      }
    },
    {
      "cell_type": "code",
      "execution_count": 1,
      "metadata": {
        "id": "k11RP2bqmDKb"
      },
      "outputs": [],
      "source": [
        "# Paso 1: Importar la librería pandas\n",
        "# -------------------------------------------\n",
        "# Asegúrate de tener instalada la librería pandas.\n",
        "\n",
        "import pandas as pd"
      ]
    },
    {
      "cell_type": "code",
      "source": [
        "# Paso 2: Cargar el dataset desde un archivo local\n",
        "# -------------------------------------------\n",
        "# Usa la opción \"Archivos\" en Google Colab para cargar el archivo `simple_sales_data.csv`.\n",
        "\n",
        "df = pd.read_csv(\"simple_sales_data.csv\")"
      ],
      "metadata": {
        "id": "wG_WFrhKohwl"
      },
      "execution_count": 2,
      "outputs": []
    },
    {
      "cell_type": "code",
      "source": [
        "# Paso 3: Mostrar estadísticas descriptivas\n",
        "# -------------------------------------------\n",
        "# Usa el método `describe()` para obtener un resumen estadístico de las columnas numéricas.\n",
        "\n",
        "print(\"Estadísticas descriptivas:\")\n",
        "print(df.describe())"
      ],
      "metadata": {
        "colab": {
          "base_uri": "https://localhost:8080/"
        },
        "id": "SEEt7K5mojzm",
        "outputId": "0631ed2e-b926-45ed-c6ae-e45ceaad2e43"
      },
      "execution_count": 3,
      "outputs": [
        {
          "output_type": "stream",
          "name": "stdout",
          "text": [
            "Estadísticas descriptivas:\n",
            "           Sales     Profit\n",
            "count    8.00000   8.000000\n",
            "mean   268.75000  58.750000\n",
            "std    119.33596  24.164614\n",
            "min    100.00000  20.000000\n",
            "25%    187.50000  45.000000\n",
            "50%    275.00000  65.000000\n",
            "75%    325.00000  72.500000\n",
            "max    450.00000  90.000000\n"
          ]
        }
      ]
    },
    {
      "cell_type": "code",
      "source": [
        "# Paso 4: Calcular las ventas promedio por producto\n",
        "# -------------------------------------------\n",
        "# Agrupa los datos por la columna `Product` y calcula la media de la columna `Sales`.\n",
        "\n",
        "avg_sales = df.groupby(\"Product\")[\"Sales\"].mean()\n"
      ],
      "metadata": {
        "id": "xDVf2xczondK"
      },
      "execution_count": 4,
      "outputs": []
    },
    {
      "cell_type": "code",
      "source": [
        "# Paso 5: Identificar el producto con mayores ventas promedio\n",
        "# -------------------------------------------\n",
        "# Usa el método `idxmax()` para encontrar el producto con el promedio más alto.\n",
        "\n",
        "max_avg_sales = avg_sales.idxmax()\n",
        "print(f\"Producto con mayores ventas promedio: {max_avg_sales}\")"
      ],
      "metadata": {
        "colab": {
          "base_uri": "https://localhost:8080/"
        },
        "id": "JgBtH_0qo3CE",
        "outputId": "687349d8-612e-4fa0-e49e-02884797c076"
      },
      "execution_count": 5,
      "outputs": [
        {
          "output_type": "stream",
          "name": "stdout",
          "text": [
            "Producto con mayores ventas promedio: D\n"
          ]
        }
      ]
    }
  ]
}
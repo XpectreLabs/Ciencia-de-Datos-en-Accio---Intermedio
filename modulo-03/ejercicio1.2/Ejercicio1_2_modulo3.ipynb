{
  "nbformat": 4,
  "nbformat_minor": 0,
  "metadata": {
    "colab": {
      "provenance": []
    },
    "kernelspec": {
      "name": "python3",
      "display_name": "Python 3"
    },
    "language_info": {
      "name": "python"
    }
  },
  "cells": [
    {
      "cell_type": "markdown",
      "source": [
        "# Ejercicio 1.2: Promedio de Calificaciones (Ejemplo)"
      ],
      "metadata": {
        "id": "EjJBJ8sFqxdi"
      }
    },
    {
      "cell_type": "markdown",
      "source": [
        "En este ejercicio, trabajarás con un dataset mediano llamado `medium_students_data.csv` que contiene información sobre calificaciones de estudiantes en diferentes materias. Calcularás el promedio de calificaciones por estudiante e identificarás al estudiante con el promedio más alto.\n",
        "\n",
        "Tareas:\n",
        "1. Cargar el dataset `medium_students_data.csv`.\n",
        "2. Calcular el promedio de las calificaciones por estudiante.\n",
        "3. Identificar al estudiante con el promedio más alto."
      ],
      "metadata": {
        "id": "1yb4XnXOq6i6"
      }
    },
    {
      "cell_type": "code",
      "execution_count": 1,
      "metadata": {
        "id": "BpyLoIuxqi3y"
      },
      "outputs": [],
      "source": [
        "# Paso 1: Importar la librería pandas\n",
        "# -------------------------------------------\n",
        "# Asegúrate de tener instalada la librería pandas.\n",
        "\n",
        "import pandas as pd"
      ]
    },
    {
      "cell_type": "code",
      "source": [
        "# Paso 2: Cargar el dataset desde un archivo local\n",
        "# -------------------------------------------\n",
        "# Usa la opción \"Archivos\" en Google Colab para cargar el archivo `medium_students_data.csv`.\n",
        "\n",
        "df = pd.read_csv(\"medium_students_data.csv\")"
      ],
      "metadata": {
        "id": "q4w3VzD5rFkP"
      },
      "execution_count": 2,
      "outputs": []
    },
    {
      "cell_type": "code",
      "source": [
        "# Paso 3: Calcular el promedio de calificaciones por estudiante\n",
        "# -------------------------------------------\n",
        "# Calcula el promedio de las columnas `Math`, `Science` y `English` para cada estudiante\n",
        "# y crea una nueva columna llamada `Average`.\n",
        "\n",
        "df[\"Average\"] = df[[\"Math\", \"Science\", \"English\"]].mean(axis=1)\n",
        "\n",
        "# Mostrar los promedios por estudiante\n",
        "print(\"Promedios por estudiante:\")\n",
        "print(df[[\"Name\", \"Average\"]])"
      ],
      "metadata": {
        "colab": {
          "base_uri": "https://localhost:8080/"
        },
        "id": "B1nnfYCZrKPm",
        "outputId": "3b9202a0-fa65-4063-da02-a957899f33b4"
      },
      "execution_count": 3,
      "outputs": [
        {
          "output_type": "stream",
          "name": "stdout",
          "text": [
            "Promedios por estudiante:\n",
            "          Name    Average\n",
            "0    Student_1  76.666667\n",
            "1    Student_2  83.666667\n",
            "2    Student_3  89.666667\n",
            "3    Student_4  63.333333\n",
            "4    Student_5  85.333333\n",
            "5    Student_6  74.000000\n",
            "6    Student_7  92.666667\n",
            "7    Student_8  82.333333\n",
            "8    Student_9  74.333333\n",
            "9   Student_10  88.666667\n",
            "10  Student_11  66.333333\n",
            "11  Student_12  89.666667\n",
            "12  Student_13  82.000000\n",
            "13  Student_14  77.333333\n",
            "14  Student_15  84.666667\n",
            "15  Student_16  88.666667\n",
            "16  Student_17  90.333333\n",
            "17  Student_18  72.000000\n",
            "18  Student_19  68.666667\n",
            "19  Student_20  84.333333\n"
          ]
        }
      ]
    },
    {
      "cell_type": "code",
      "source": [
        "# Paso 4: Identificar al estudiante con el promedio más alto\n",
        "# -------------------------------------------\n",
        "# Usa `idxmax()` para encontrar el índice del estudiante con el promedio más alto.\n",
        "\n",
        "top_student = df.loc[df[\"Average\"].idxmax()]\n",
        "\n",
        "# Imprime el nombre y promedio del estudiante destacado\n",
        "print(f\"Estudiante con el promedio más alto: {top_student['Name']} ({top_student['Average']:.2f})\")"
      ],
      "metadata": {
        "colab": {
          "base_uri": "https://localhost:8080/"
        },
        "id": "7NkXgGNOrL8N",
        "outputId": "98f490bf-20fb-48e5-d1a2-d91e2c8284b0"
      },
      "execution_count": 4,
      "outputs": [
        {
          "output_type": "stream",
          "name": "stdout",
          "text": [
            "Estudiante con el promedio más alto: Student_7 (92.67)\n"
          ]
        }
      ]
    }
  ]
}
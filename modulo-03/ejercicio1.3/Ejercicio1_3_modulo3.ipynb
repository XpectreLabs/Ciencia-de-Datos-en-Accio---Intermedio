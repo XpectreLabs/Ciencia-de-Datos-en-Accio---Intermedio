{
  "nbformat": 4,
  "nbformat_minor": 0,
  "metadata": {
    "colab": {
      "provenance": []
    },
    "kernelspec": {
      "name": "python3",
      "display_name": "Python 3"
    },
    "language_info": {
      "name": "python"
    }
  },
  "cells": [
    {
      "cell_type": "markdown",
      "source": [
        "# Ejercicio 1.3: Exploración del Titanic (Ejemplo)"
      ],
      "metadata": {
        "id": "qxkhMcr3rvc9"
      }
    },
    {
      "cell_type": "markdown",
      "source": [
        "Este ejercicio utiliza el famoso dataset del Titanic para explorar los datos y realizar un análisis básico. Aprenderás a cargar un dataset, inspeccionar las primeras filas y contar la cantidad de pasajeros por clase.\n",
        "\n",
        "Tareas:\n",
        "1. Cargar el dataset `titanic.csv`.\n",
        "2. Mostrar las primeras filas del dataset para comprender su estructura.\n",
        "3. Contar el número de pasajeros en cada clase (`Pclass`)."
      ],
      "metadata": {
        "id": "QacLYPqOsBgF"
      }
    },
    {
      "cell_type": "code",
      "execution_count": null,
      "metadata": {
        "id": "0MY8ZtGxru3m"
      },
      "outputs": [],
      "source": [
        "# Paso 1: Importar la librería pandas\n",
        "# -------------------------------------------\n",
        "# Asegúrate de tener instalada la librería pandas.\n",
        "\n",
        "import pandas as pd"
      ]
    },
    {
      "cell_type": "code",
      "source": [
        "# Paso 2: Cargar el dataset desde un archivo local\n",
        "# -------------------------------------------\n",
        "# Usa la opción \"Archivos\" en Google Colab para cargar el archivo `titanic.csv`.\n",
        "\n",
        "df = pd.read_csv(\"titanic.csv\")"
      ],
      "metadata": {
        "id": "HgXnEDzesSed"
      },
      "execution_count": null,
      "outputs": []
    },
    {
      "cell_type": "code",
      "source": [
        "# Paso 3: Mostrar las primeras filas del dataset\n",
        "# -------------------------------------------\n",
        "# Usa el método `head()` para visualizar las primeras filas y comprender las columnas disponibles.\n",
        "\n",
        "print(\"Primeras filas del dataset:\")\n",
        "print(df.head())"
      ],
      "metadata": {
        "id": "0QuDAoRBsUNI"
      },
      "execution_count": null,
      "outputs": []
    },
    {
      "cell_type": "code",
      "source": [
        "# Paso 4: Contar el número de pasajeros por clase\n",
        "# -------------------------------------------\n",
        "# La columna `Pclass` representa la clase de los pasajeros (1ª, 2ª, 3ª).\n",
        "# Usa `value_counts()` para contar cuántos pasajeros hay en cada clase.\n",
        "\n",
        "print(\"\\nPasajeros por clase:\")\n",
        "print(df[\"Pclass\"].value_counts())\n"
      ],
      "metadata": {
        "id": "10uepGtosdSD"
      },
      "execution_count": null,
      "outputs": []
    }
  ]
}
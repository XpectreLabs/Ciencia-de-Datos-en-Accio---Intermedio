{
  "nbformat": 4,
  "nbformat_minor": 0,
  "metadata": {
    "colab": {
      "provenance": []
    },
    "kernelspec": {
      "name": "python3",
      "display_name": "Python 3"
    },
    "language_info": {
      "name": "python"
    }
  },
  "cells": [
    {
      "cell_type": "markdown",
      "source": [
        "# Ejercicio 1.4: Resumen Estadístico por Producto (Alumno)"
      ],
      "metadata": {
        "id": "imBAmnvDtjvO"
      }
    },
    {
      "cell_type": "markdown",
      "source": [
        "En este ejercicio, trabajarás con un dataset simple llamado `simple_sales_data.csv` que contiene información sobre ventas en diferentes regiones. Calcularás el promedio y la desviación estándar de ventas agrupadas por región utilizando funciones de pandas.\n",
        "\n",
        "Tareas:\n",
        "1. Cargar el dataset `simple_sales_data.csv`.\n",
        "2. Agrupar los datos por región y calcular el promedio de ventas.\n",
        "3. Calcular la desviación estándar de las ventas por región."
      ],
      "metadata": {
        "id": "2trby0VJtwlD"
      }
    },
    {
      "cell_type": "code",
      "execution_count": null,
      "metadata": {
        "id": "QGD2--0atamU"
      },
      "outputs": [],
      "source": [
        "# Paso 1: Importar la librería pandas\n",
        "# -------------------------------------------\n",
        "# Asegúrate de tener instalada la librería pandas."
      ]
    },
    {
      "cell_type": "code",
      "source": [
        "# Paso 2: Cargar el dataset desde un archivo local\n",
        "# -------------------------------------------"
      ],
      "metadata": {
        "id": "bj0PbvmQt3PW"
      },
      "execution_count": null,
      "outputs": []
    },
    {
      "cell_type": "code",
      "source": [
        "# Paso 3: Agrupar los datos por región y calcular el promedio de ventas\n",
        "# -------------------------------------------\n",
        "# Usa `groupby` para agrupar por la columna `Region` y calcula la media de las ventas.\n"
      ],
      "metadata": {
        "id": "YBtsEbSTt5DN"
      },
      "execution_count": null,
      "outputs": []
    },
    {
      "cell_type": "code",
      "source": [
        "# Paso 4: Calcular la desviación estándar de las ventas por región\n",
        "# -------------------------------------------\n",
        "# De forma similar, usa `groupby` para calcular la desviación estándar de las ventas.\n"
      ],
      "metadata": {
        "id": "FriHBrpst7F5"
      },
      "execution_count": null,
      "outputs": []
    }
  ]
}
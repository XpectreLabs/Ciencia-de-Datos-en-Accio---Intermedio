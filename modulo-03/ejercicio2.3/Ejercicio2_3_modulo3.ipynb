{
  "nbformat": 4,
  "nbformat_minor": 0,
  "metadata": {
    "colab": {
      "provenance": []
    },
    "kernelspec": {
      "name": "python3",
      "display_name": "Python 3"
    },
    "language_info": {
      "name": "python"
    }
  },
  "cells": [
    {
      "cell_type": "markdown",
      "source": [
        "# Ejercicio 2.3: Gráfico de Barras del Titanic (Ejemplo)"
      ],
      "metadata": {
        "id": "CVJ-BMNG0AGT"
      }
    },
    {
      "cell_type": "markdown",
      "source": [
        "En este ejercicio, utilizarás el dataset `titanic.csv`, que contiene información sobre los pasajeros del Titanic, incluyendo su género y si sobrevivieron o no. Crearás un gráfico de barras con Seaborn para visualizar la tasa de supervivencia por género y analizar patrones relacionados con la supervivencia.\n",
        "\n",
        "Tareas:\n",
        "1. Cargar el dataset `titanic.csv`.\n",
        "2. Usar la librería Seaborn para crear un gráfico de barras.\n",
        "3. Interpretar el gráfico para identificar diferencias en la tasa de supervivencia por género."
      ],
      "metadata": {
        "id": "rrXX_B5-0T3e"
      }
    },
    {
      "cell_type": "code",
      "execution_count": null,
      "metadata": {
        "id": "qK8p2EzWz_eT"
      },
      "outputs": [],
      "source": [
        "# Paso 1: Importar las librerías necesarias\n",
        "# -------------------------------------------\n",
        "# Asegúrate de tener instaladas las librerías pandas, seaborn y matplotlib.\n",
        "\n",
        "import pandas as pd\n",
        "import seaborn as sns\n",
        "import matplotlib.pyplot as plt"
      ]
    },
    {
      "cell_type": "code",
      "source": [
        "# Paso 2: Cargar el dataset desde un archivo local\n",
        "# -------------------------------------------\n",
        "# Usa la opción \"Archivos\" en Google Colab para cargar el archivo `titanic.csv`.\n",
        "\n",
        "df = pd.read_csv(\"titanic.csv\")"
      ],
      "metadata": {
        "id": "zWYBICGP0pVf"
      },
      "execution_count": null,
      "outputs": []
    },
    {
      "cell_type": "code",
      "source": [
        "# Paso 3: Crear un gráfico de barras para la tasa de supervivencia por género\n",
        "# -------------------------------------------\n",
        "# Usa la función `sns.barplot()` para crear un gráfico que compare la tasa de supervivencia (`Survived`) por género (`Sex`).\n",
        "\n",
        "sns.barplot(x=\"Sex\", y=\"Survived\", data=df, palette=\"muted\")\n",
        "plt.title(\"Tasa de Supervivencia por Género\")  # Título del gráfico\n",
        "plt.ylabel(\"Tasa de Supervivencia\")           # Etiqueta del eje Y\n",
        "plt.xlabel(\"Género\")                          # Etiqueta del eje X\n",
        "plt.show()\n"
      ],
      "metadata": {
        "id": "gHGFWUiJ0ui6"
      },
      "execution_count": null,
      "outputs": []
    }
  ]
}
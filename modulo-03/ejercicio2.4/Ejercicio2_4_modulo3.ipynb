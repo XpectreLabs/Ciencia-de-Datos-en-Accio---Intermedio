{
  "nbformat": 4,
  "nbformat_minor": 0,
  "metadata": {
    "colab": {
      "provenance": []
    },
    "kernelspec": {
      "name": "python3",
      "display_name": "Python 3"
    },
    "language_info": {
      "name": "python"
    }
  },
  "cells": [
    {
      "cell_type": "markdown",
      "source": [
        "# Ejercicio 2.4: Histograma de Ventas"
      ],
      "metadata": {
        "id": "zyar38Cb1MkW"
      }
    },
    {
      "cell_type": "markdown",
      "source": [
        "En este ejercicio, trabajarás con el dataset `simple_sales_data.csv`, que contiene información sobre las ventas y las ganancias.\n",
        "Crearás un histograma para visualizar la distribución de las ganancias y analizar cómo se distribuyen estos valores.\n",
        "\n",
        "Tareas:\n",
        "1. Cargar el dataset `simple_sales_data.csv`.\n",
        "2. Crear un histograma para visualizar la distribución de ganancias.\n"
      ],
      "metadata": {
        "id": "odUgw60_1HeN"
      }
    },
    {
      "cell_type": "code",
      "execution_count": 6,
      "metadata": {
        "id": "aiTPiz7c09b3"
      },
      "outputs": [],
      "source": [
        "# Paso 1: Importar las librerías necesarias\n",
        "# -------------------------------------------\n",
        "# Asegúrate de tener instaladas las librerías pandas y matplotlib.\n"
      ]
    },
    {
      "cell_type": "code",
      "source": [
        "# Paso 2: Cargar el dataset desde un archivo local\n",
        "# -------------------------------------------\n",
        "# Usa la opción \"Archivos\" en Google Colab para cargar el archivo `simple_sales_data.csv`.\n"
      ],
      "metadata": {
        "id": "F4fqzQzB1VHs"
      },
      "execution_count": 5,
      "outputs": []
    },
    {
      "cell_type": "code",
      "source": [
        "# Paso 3: Crear un histograma para la distribución de ganancias\n",
        "# -------------------------------------------\n",
        "# Utiliza `plt.hist()` para crear un histograma que visualice la distribución de las ganancias.\n"
      ],
      "metadata": {
        "id": "Y_EG5HMp1XF7"
      },
      "execution_count": 4,
      "outputs": []
    }
  ]
}
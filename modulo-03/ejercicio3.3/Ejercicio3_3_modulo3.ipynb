{
  "nbformat": 4,
  "nbformat_minor": 0,
  "metadata": {
    "colab": {
      "provenance": []
    },
    "kernelspec": {
      "name": "python3",
      "display_name": "Python 3"
    },
    "language_info": {
      "name": "python"
    }
  },
  "cells": [
    {
      "cell_type": "markdown",
      "source": [
        "# Ejercicio 3.3: Análisis de Ganancias por Región (Ejemplo)"
      ],
      "metadata": {
        "id": "bym78jTK5KaB"
      }
    },
    {
      "cell_type": "markdown",
      "source": [
        "En este ejercicio, trabajarás con el dataset `simple_sales_data.csv` para calcular el margen de ganancia promedio por cada región. Para ello, dividirás las ganancias entre las ventas y luego calcularás el promedio por cada región.\n",
        "\n",
        "Tareas:\n",
        "1. Cargar el dataset `simple_sales_data.csv`.\n",
        "2. Crear una nueva columna llamada `Margin` que represente el margen de ganancia (Profit/Sales).\n",
        "3. Calcular el margen de ganancia promedio por región."
      ],
      "metadata": {
        "id": "rj7MrIDS5nJk"
      }
    },
    {
      "cell_type": "code",
      "execution_count": null,
      "metadata": {
        "id": "HCUKrcS_5JpJ"
      },
      "outputs": [],
      "source": [
        "# Paso 1: Importar las librerías necesarias\n",
        "# -------------------------------------------\n",
        "import pandas as pd"
      ]
    },
    {
      "cell_type": "code",
      "source": [
        "# Paso 2: Cargar el dataset desde un archivo local\n",
        "# -------------------------------------------\n",
        "# Usa la opción \"Archivos\" en Google Colab para cargar el archivo `simple_sales_data.csv`.\n",
        "\n",
        "df = pd.read_csv(\"simple_sales_data.csv\")"
      ],
      "metadata": {
        "id": "epEXMOBc5taF"
      },
      "execution_count": null,
      "outputs": []
    },
    {
      "cell_type": "code",
      "source": [
        "# Paso 3: Calcular el margen de ganancia por región\n",
        "# -------------------------------------------\n",
        "# Crear una nueva columna \"Margin\" que represente la relación entre Profit y Sales\n",
        "df[\"Margin\"] = df[\"Profit\"] / df[\"Sales\"]"
      ],
      "metadata": {
        "id": "hj8dzSW25vT7"
      },
      "execution_count": null,
      "outputs": []
    },
    {
      "cell_type": "code",
      "source": [
        "# Paso 4: Calcular el margen de ganancia promedio por región\n",
        "# -------------------------------------------\n",
        "print(\"Margen promedio por región:\")\n",
        "print(df.groupby(\"Region\")[\"Margin\"].mean())"
      ],
      "metadata": {
        "colab": {
          "base_uri": "https://localhost:8080/"
        },
        "id": "pCICgsc05xB_",
        "outputId": "4d0dc07c-6835-423f-e242-9e8a5e573417"
      },
      "execution_count": null,
      "outputs": [
        {
          "output_type": "stream",
          "name": "stdout",
          "text": [
            "Margen promedio por región:\n",
            "Region\n",
            "East     0.216667\n",
            "North    0.225000\n",
            "South    0.220000\n",
            "West     0.216667\n",
            "Name: Margin, dtype: float64\n"
          ]
        }
      ]
    }
  ]
}
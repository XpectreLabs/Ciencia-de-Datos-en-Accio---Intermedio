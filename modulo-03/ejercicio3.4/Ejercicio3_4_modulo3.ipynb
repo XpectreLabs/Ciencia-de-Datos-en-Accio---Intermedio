{
  "nbformat": 4,
  "nbformat_minor": 0,
  "metadata": {
    "colab": {
      "provenance": []
    },
    "kernelspec": {
      "name": "python3",
      "display_name": "Python 3"
    },
    "language_info": {
      "name": "python"
    }
  },
  "cells": [
    {
      "cell_type": "markdown",
      "source": [
        "# Ejercicio 3.4: Identificación de Correlaciones"
      ],
      "metadata": {
        "id": "D1uqtfG56jEL"
      }
    },
    {
      "cell_type": "markdown",
      "source": [
        "En este ejercicio, trabajarás con el dataset `medium_students_data.csv` para calcular las correlaciones entre las calificaciones de las materias (Math, Science, English). Analizarás cómo están relacionadas entre sí las calificaciones de los estudiantes.\n",
        "\n",
        "Tareas:\n",
        "1. Cargar el dataset `medium_students_data.csv`.\n",
        "2. Calcular las correlaciones entre las materias: Math, Science y English.\n"
      ],
      "metadata": {
        "id": "el39M5XG6kHv"
      }
    },
    {
      "cell_type": "code",
      "execution_count": null,
      "metadata": {
        "id": "QRNq1GVz6fF5"
      },
      "outputs": [],
      "source": [
        "# Paso 1: Importar las librerías necesarias\n",
        "# -------------------------------------------\n"
      ]
    },
    {
      "cell_type": "code",
      "source": [
        "# Paso 2: Cargar el dataset desde un archivo local\n",
        "# -------------------------------------------\n",
        "# Usa la opción \"Archivos\" en Google Colab para cargar el archivo `medium_students_data.csv`.\n"
      ],
      "metadata": {
        "id": "yXb18SiV6vlJ"
      },
      "execution_count": null,
      "outputs": []
    },
    {
      "cell_type": "code",
      "source": [
        "# Paso 3: Calcular las correlaciones entre las materias (Math, Science, English)\n",
        "# -------------------------------------------\n"
      ],
      "metadata": {
        "id": "O2z7kt4j6xfB"
      },
      "execution_count": null,
      "outputs": []
    },
    {
      "cell_type": "code",
      "source": [
        "# Paso 4: Mostrar las correlaciones entre materias\n",
        "# -------------------------------------------\n"
      ],
      "metadata": {
        "id": "JdES2ruI6zad"
      },
      "execution_count": 5,
      "outputs": []
    }
  ]
}
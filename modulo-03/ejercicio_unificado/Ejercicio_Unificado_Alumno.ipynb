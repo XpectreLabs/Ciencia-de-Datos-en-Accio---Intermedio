{
 "cells": [
  {
   "cell_type": "markdown",
   "id": "577bf7db",
   "metadata": {},
   "source": [
    "### Ejercicio Unificado del Módulo 3"
   ]
  },
  {
   "cell_type": "markdown",
   "id": "777c8e06",
   "metadata": {},
   "source": [
    "En este ejercicio trabajarás con el dataset **Iris**. Este dataset incluye información sobre la longitud y anchura de los sépalos y pétalos de tres especies de flores: Setosa, Versicolor y Virginica.\n",
    "\n",
    "Debes completar las siguientes tareas para explorar el dataset y generar visualizaciones útiles:\n",
    "\n",
    "1. Cargar el dataset y mostrar un resumen de los datos.\n",
    "2. Crear un **gráfico de dispersión** que relacione la longitud del sépalo y del pétalo, usando diferentes colores para cada especie.\n",
    "3. Generar un **histograma** para visualizar la distribución de la longitud del pétalo.\n",
    "4. Crear un **heatmap de correlaciones** para identificar relaciones entre las variables numéricas del dataset."
   ]
  },
  {
   "cell_type": "code",
   "execution_count": null,
   "id": "fc804957",
   "metadata": {},
   "outputs": [],
   "source": [
    "# Paso 1: Cargar el dataset y mostrar el resumen\n",
    "# Carga el dataset usando pandas"
   ]
  },
  {
   "cell_type": "code",
   "execution_count": null,
   "id": "5e346623",
   "metadata": {},
   "outputs": [],
   "source": [
    "# Paso 2: Crear un gráfico de dispersión\n",
    "# Usa matplotlib o seaborn para generar el scatter plot"
   ]
  },
  {
   "cell_type": "code",
   "execution_count": null,
   "id": "5f9339e3",
   "metadata": {},
   "outputs": [],
   "source": [
    "# Paso 3: Crear un histograma\n",
    "# Visualiza la distribución de la longitud del pétalo"
   ]
  },
  {
   "cell_type": "code",
   "execution_count": null,
   "id": "68547a6f",
   "metadata": {},
   "outputs": [],
   "source": [
    "# Paso 4: Crear un heatmap\n",
    "# Calcula la matriz de correlación y genera el heatmap"
   ]
  }
 ],
 "metadata": {},
 "nbformat": 4,
 "nbformat_minor": 5
}

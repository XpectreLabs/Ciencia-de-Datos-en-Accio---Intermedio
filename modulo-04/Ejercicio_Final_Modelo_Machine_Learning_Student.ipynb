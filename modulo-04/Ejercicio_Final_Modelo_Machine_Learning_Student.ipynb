{
 "cells": [
  {
   "cell_type": "markdown",
   "id": "43cebbfc",
   "metadata": {},
   "source": [
    "# Ejercicio Final: Construir y Evaluar un Modelo"
   ]
  },
  {
   "cell_type": "markdown",
   "id": "6e34a82e",
   "metadata": {},
   "source": [
    "En este ejercicio, construirás un modelo completo de Machine Learning utilizando Scikit-learn. Seguirás los pasos básicos para implementar un modelo supervisado de clasificación utilizando el dataset Titanic.\n",
    "\n",
    "**Objetivos:**\n",
    "1. Cargar y explorar un dataset público.\n",
    "2. Realizar preprocesamiento e ingeniería de características.\n",
    "3. Dividir los datos en conjuntos de entrenamiento y prueba.\n",
    "4. Entrenar el modelo.\n",
    "5. Evaluar el rendimiento del modelo utilizando métricas adecuadas.\n",
    "\n",
    "**Instrucciones:** Sigue cada uno de los pasos, completa el código y analiza los resultados obtenidos."
   ]
  },
  {
   "cell_type": "markdown",
   "id": "2efde665",
   "metadata": {},
   "source": [
    "## Paso 1: Cargar y Explorar el Dataset"
   ]
  },
  {
   "cell_type": "code",
   "execution_count": null,
   "id": "de679aeb",
   "metadata": {},
   "outputs": [],
   "source": [
    "# Importar librerías necesarias\n",
    "import pandas as pd\n",
    "\n",
    "# Cargar el dataset Titanic desde Kaggle o un archivo local\n",
    "# df = pd.read_csv('titanic.csv')  # Descomenta esta línea si tienes el archivo CSV\n",
    "\n",
    "# Mostrar las primeras filas\n",
    "# df.head()"
   ]
  },
  {
   "cell_type": "markdown",
   "id": "bcecdf6f",
   "metadata": {},
   "source": [
    "## Paso 2: Preprocesamiento e Ingeniería de Características"
   ]
  },
  {
   "cell_type": "code",
   "execution_count": null,
   "id": "d2609ca2",
   "metadata": {},
   "outputs": [],
   "source": [
    "# Verificar valores nulos\n",
    "# print(df.isnull().sum())\n",
    "\n",
    "# Rellenar valores nulos en 'Age' con la mediana\n",
    "# df['Age'].fillna(df['Age'].median(), inplace=True)\n",
    "\n",
    "# Codificar variables categóricas (e.g., 'Sex')\n",
    "# df = pd.get_dummies(df, columns=['Sex'], drop_first=True)\n",
    "\n",
    "# Seleccionar características (features) y la variable objetivo (target)\n",
    "# X = df[['Age', 'Fare', 'Pclass', 'Sex_male']]\n",
    "# y = df['Survived']"
   ]
  },
  {
   "cell_type": "markdown",
   "id": "98ded866",
   "metadata": {},
   "source": [
    "## Paso 3: Dividir los Datos en Entrenamiento y Prueba"
   ]
  },
  {
   "cell_type": "code",
   "execution_count": null,
   "id": "5d09c141",
   "metadata": {},
   "outputs": [],
   "source": [
    "# Dividir los datos en conjuntos de entrenamiento y prueba\n",
    "# from sklearn.model_selection import train_test_split\n",
    "\n",
    "# X_train, X_test, y_train, y_test = train_test_split(X, y, test_size=0.2, random_state=42)"
   ]
  },
  {
   "cell_type": "markdown",
   "id": "802e1f5c",
   "metadata": {},
   "source": [
    "## Paso 4: Entrenar el Modelo"
   ]
  },
  {
   "cell_type": "code",
   "execution_count": null,
   "id": "364c098f",
   "metadata": {},
   "outputs": [],
   "source": [
    "# Entrenar un modelo de clasificación (Regresión Logística)\n",
    "# from sklearn.linear_model import LogisticRegression\n",
    "\n",
    "# model = LogisticRegression()\n",
    "# model.fit(X_train, y_train)"
   ]
  },
  {
   "cell_type": "markdown",
   "id": "0c32c16e",
   "metadata": {},
   "source": [
    "## Paso 5: Evaluar el Rendimiento del Modelo"
   ]
  },
  {
   "cell_type": "code",
   "execution_count": null,
   "id": "bbcaeb50",
   "metadata": {},
   "outputs": [],
   "source": [
    "# Evaluar el modelo utilizando métricas\n",
    "# from sklearn.metrics import accuracy_score, confusion_matrix, classification_report\n",
    "\n",
    "# Realizar predicciones\n",
    "# y_pred = model.predict(X_test)\n",
    "\n",
    "# Calcular Accuracy\n",
    "# accuracy = accuracy_score(y_test, y_pred)\n",
    "# print('Accuracy:', accuracy)\n",
    "\n",
    "# Matriz de Confusión\n",
    "# conf_matrix = confusion_matrix(y_test, y_pred)\n",
    "# print('Matriz de Confusión:\\n', conf_matrix)\n",
    "\n",
    "# Reporte de Clasificación\n",
    "# print('Reporte de Clasificación:\\n', classification_report(y_test, y_pred))"
   ]
  }
 ],
 "metadata": {},
 "nbformat": 4,
 "nbformat_minor": 5
}

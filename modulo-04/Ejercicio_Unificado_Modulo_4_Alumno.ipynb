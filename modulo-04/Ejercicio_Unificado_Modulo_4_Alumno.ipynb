{
  "cells": [
    {
      "cell_type": "markdown",
      "id": "201f74a0",
      "metadata": {
        "id": "201f74a0"
      },
      "source": [
        "### Ejercicio Unificado del Módulo 4: Construir y Evaluar un Modelo de Predicción con Scikit-learn"
      ]
    },
    {
      "cell_type": "markdown",
      "id": "9db99da7",
      "metadata": {
        "id": "9db99da7"
      },
      "source": [
        "En este ejercicio, trabajarás con un dataset público para construir y evaluar un modelo de predicción. Aplicarás los conceptos aprendidos sobre regresión o clasificación y evaluarás el rendimiento del modelo utilizando métricas adecuadas.\n",
        "\n",
        "**Tareas:**\n",
        "1. Cargar el dataset y dividirlo en conjuntos de entrenamiento y prueba.\n",
        "2. Entrenar un modelo (regresión lineal o k-NN).\n",
        "3. Realizar predicciones con el conjunto de prueba.\n",
        "4. Evaluar el rendimiento del modelo usando métricas relevantes.\n",
        "\n",
        "**Dataset:** Utilizaremos el dataset público de Iris. Importa la librería necesaria e importalo."
      ]
    },
    {
      "cell_type": "code",
      "execution_count": null,
      "id": "929dfc88",
      "metadata": {
        "id": "929dfc88"
      },
      "outputs": [],
      "source": [
        "# Paso 1: Cargar el dataset y explorar los datos\n"
      ]
    },
    {
      "cell_type": "code",
      "execution_count": null,
      "id": "4e47d707",
      "metadata": {
        "id": "4e47d707"
      },
      "outputs": [],
      "source": [
        "# Paso 2: Dividir los datos en conjuntos de entrenamiento y prueba\n",
        "# Usa train_test_split"
      ]
    },
    {
      "cell_type": "code",
      "execution_count": null,
      "id": "3f96ec1d",
      "metadata": {
        "id": "3f96ec1d"
      },
      "outputs": [],
      "source": [
        "# Paso 3: Entrenar un modelo (e.g., regresión lineal)\n",
        "# Usa LinearRegression de scikit-learn"
      ]
    },
    {
      "cell_type": "code",
      "execution_count": null,
      "id": "528f9497",
      "metadata": {
        "id": "528f9497"
      },
      "outputs": [],
      "source": [
        "# Paso 4: Realizar predicciones\n",
        "# Usa predict() para obtener predicciones en el conjunto de prueba"
      ]
    },
    {
      "cell_type": "code",
      "execution_count": null,
      "id": "787e02b8",
      "metadata": {
        "id": "787e02b8"
      },
      "outputs": [],
      "source": [
        "# Paso 5: Evaluar el rendimiento del modelo\n",
        "# Calcula métricas como MAE y R^2"
      ]
    }
  ],
  "metadata": {
    "colab": {
      "provenance": []
    }
  },
  "nbformat": 4,
  "nbformat_minor": 5
}
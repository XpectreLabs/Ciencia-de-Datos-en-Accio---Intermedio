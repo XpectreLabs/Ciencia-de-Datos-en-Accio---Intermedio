{
 "cells": [
  {
   "cell_type": "markdown",
   "id": "574a8f8e",
   "metadata": {},
   "source": [
    "### EDA Extendido del Dataset `netflix_titles.csv` (Versión para Alumnos)"
   ]
  },
  {
   "cell_type": "markdown",
   "id": "88989106",
   "metadata": {},
   "source": [
    "Este notebook contiene tareas para realizar un análisis exploratorio de datos avanzado en el dataset `netflix_titles.csv`. Asegúrate de completar cada sección y responder las preguntas planteadas.\n",
    "\n",
    "**Objetivos:**\n",
    "1. Preparar datos con ingeniería de características.\n",
    "2. Analizar correlaciones y tendencias temporales.\n",
    "3. Realizar análisis basado en texto.\n",
    "4. Aplicar técnicas de agrupamiento (clustering)."
   ]
  },
  {
   "cell_type": "markdown",
   "id": "cbd75e26",
   "metadata": {},
   "source": [
    "### Paso 1: Ingeniería de Características"
   ]
  },
  {
   "cell_type": "code",
   "execution_count": null,
   "id": "61dcb183",
   "metadata": {},
   "outputs": [],
   "source": [
    "# Realiza las tareas de ingeniería de características aquí"
   ]
  },
  {
   "cell_type": "markdown",
   "id": "dc08794e",
   "metadata": {},
   "source": [
    "### Paso 2: Análisis de Correlaciones"
   ]
  },
  {
   "cell_type": "code",
   "execution_count": null,
   "id": "61a06b96",
   "metadata": {},
   "outputs": [],
   "source": [
    "# Genera una matriz de correlaciones aquí"
   ]
  },
  {
   "cell_type": "markdown",
   "id": "30a759ae",
   "metadata": {},
   "source": [
    "### Paso 3: Tendencias Temporales"
   ]
  },
  {
   "cell_type": "code",
   "execution_count": null,
   "id": "7678364f",
   "metadata": {},
   "outputs": [],
   "source": [
    "# Analiza tendencias por año y por mes"
   ]
  },
  {
   "cell_type": "markdown",
   "id": "0f4d0e87",
   "metadata": {},
   "source": [
    "### Paso 4: Análisis Basado en Texto"
   ]
  },
  {
   "cell_type": "code",
   "execution_count": null,
   "id": "c436a255",
   "metadata": {},
   "outputs": [],
   "source": [
    "# Crea una nube de palabras a partir de las descripciones"
   ]
  },
  {
   "cell_type": "markdown",
   "id": "535540b3",
   "metadata": {},
   "source": [
    "### Paso 5: Agrupamiento de Títulos (Clustering)"
   ]
  },
  {
   "cell_type": "code",
   "execution_count": null,
   "id": "1f718c21",
   "metadata": {},
   "outputs": [],
   "source": [
    "# Realiza el clustering de títulos con K-Means"
   ]
  }
 ],
 "metadata": {},
 "nbformat": 4,
 "nbformat_minor": 5
}

{
 "cells": [
  {
   "cell_type": "markdown",
   "metadata": {},
   "source": [
    "# Caso de Uso: Predicción de la Calidad del Vino\n",
    "### Objetivo\n",
    "En este caso de uso, construiremos y evaluaremos un modelo para predecir la calidad del vino basándonos en sus características químicas.\n",
    "\n",
    "### Dataset\n",
    "Usaremos el **Wine Quality Dataset**, que contiene información sobre:\n",
    "- Variables como acidez, pH, azúcar residual, alcohol, entre otras.\n",
    "- Una calificación de calidad (`quality`) de 0 a 10 como variable objetivo.\n",
    "\n",
    "Este dataset es ideal para practicar regresión y clasificación."
   ]
  },
  {
   "cell_type": "markdown",
   "metadata": {},
   "source": [
    "### Paso 1: Cargar el Dataset y Librerías\n",
    "Primero, importaremos las librerías necesarias y cargaremos el dataset desde una fuente pública.\n",
    "Nota: Usaremos la librería `pandas` para manejar los datos y `matplotlib` para graficar."
   ]
  },
  {
   "cell_type": "code",
   "execution_count": null,
   "metadata": {},
   "outputs": [],
   "source": [
    "import pandas as pd\n",
    "import numpy as np\n",
    "import matplotlib.pyplot as plt\n",
    "from sklearn.model_selection import train_test_split\n",
    "from sklearn.linear_model import LinearRegression\n",
    "from sklearn.ensemble import RandomForestClassifier\n",
    "from sklearn.metrics import mean_squared_error, r2_score, accuracy_score, classification_report\n",
    "\n",
    "# Cargar el dataset desde una URL pública\n",
    "url = 'https://archive.ics.uci.edu/ml/machine-learning-databases/wine-quality/winequality-red.csv'\n",
    "df = pd.read_csv(url, sep=';')\n",
    "\n",
    "print(\"Primeras filas del dataset:\")\n",
    "print(df.head())"
   ]
  },
  {
   "cell_type": "markdown",
   "metadata": {},
   "source": [
    "### Paso 2: Análisis Exploratorio de Datos (EDA)\n",
    "Exploraremos el dataset para entender las variables disponibles y su relación con la calidad del vino."
   ]
  },
  {
   "cell_type": "code",
   "execution_count": null,
   "metadata": {},
   "outputs": [],
   "source": [
    "# Resumen estadístico de las variables\n",
    "print(\"Resumen estadístico:\")\n",
    "print(df.describe())\n",
    "\n",
    "# Revisar la distribución de la calidad del vino\n",
    "plt.figure(figsize=(8, 6))\n",
    "plt.hist(df['quality'], bins=6, color='skyblue', edgecolor='black')\n",
    "plt.title('Distribución de la Calidad del Vino', fontsize=14)\n",
    "plt.xlabel('Calidad (0-10)', fontsize=12)\n",
    "plt.ylabel('Frecuencia', fontsize=12)\n",
    "plt.show()"
   ]
  },
  {
   "cell_type": "markdown",
   "metadata": {},
   "source": [
    "### Paso 3: Selección de Características\n",
    "Seleccionaremos las características que tienen mayor correlación con la calidad del vino para construir nuestro modelo."
   ]
  },
  {
   "cell_type": "code",
   "execution_count": null,
   "metadata": {},
   "outputs": [],
   "source": [
    "# Matriz de correlación\n",
    "correlation_matrix = df.corr()\n",
    "plt.figure(figsize=(10, 8))\n",
    "plt.imshow(correlation_matrix, cmap='coolwarm', interpolation='none')\n",
    "plt.colorbar()\n",
    "plt.title('Matriz de Correlación entre Variables', fontsize=14)\n",
    "plt.show()\n",
    "\n",
    "# Selección basada en correlación alta con la calidad\n",
    "selected_features = ['alcohol', 'sulphates', 'citric acid', 'volatile acidity']\n",
    "X = df[selected_features]\n",
    "y = df['quality']\n",
    "print(f\"Características seleccionadas: {selected_features}\")"
   ]
  },
  {
   "cell_type": "markdown",
   "metadata": {},
   "source": [
    "### Paso 3: Selección de Características\n",
    "Seleccionaremos las características que tienen mayor correlación con la calidad del vino para construir nuestro modelo.\n",
    "- La matriz de correlación ahora incluirá etiquetas para que sea más fácil identificar las relaciones fuertes entre variables.\n"
   ]
  },
  {
   "cell_type": "code",
   "execution_count": null,
   "metadata": {},
   "outputs": [],
   "source": [
    "# Matriz de correlación con etiquetas\n",
    "correlation_matrix = df.corr()\n",
    "plt.figure(figsize=(12, 10))\n",
    "plt.matshow(correlation_matrix, fignum=1, cmap='coolwarm')\n",
    "plt.xticks(range(df.shape[1]), df.columns, rotation=90, fontsize=10)\n",
    "plt.yticks(range(df.shape[1]), df.columns, fontsize=10)\n",
    "plt.colorbar()\n",
    "plt.title('Matriz de Correlación entre Variables', fontsize=14, pad=20)\n",
    "plt.show()\n",
    "\n",
    "# Selección basada en correlación alta con la calidad\n",
    "selected_features = ['alcohol', 'sulphates', 'citric acid', 'volatile acidity']\n",
    "X = df[selected_features]\n",
    "y = df['quality']\n",
    "print(f\"Características seleccionadas: {selected_features}\")"
   ]
  },
  {
   "cell_type": "markdown",
   "metadata": {},
   "source": [
    "### Paso 5: Construcción del Modelo de Regresión\n",
    "Primero construiremos un modelo de regresión lineal para predecir la calidad del vino como una variable continua."
   ]
  },
  {
   "cell_type": "code",
   "execution_count": null,
   "metadata": {},
   "outputs": [],
   "source": [
    "# Modelo de regresión lineal\n",
    "reg_model = LinearRegression()\n",
    "reg_model.fit(X_train, y_train)\n",
    "\n",
    "y_pred_reg = reg_model.predict(X_test)\n",
    "\n",
    "# Métricas de evaluación\n",
    "mse = mean_squared_error(y_test, y_pred_reg)\n",
    "r2 = r2_score(y_test, y_pred_reg)\n",
    "\n",
    "print(f\"Error Cuadrático Medio (MSE): {mse:.2f}\")\n",
    "print(f\"Coeficiente de Determinación ($R^2$): {r2:.2f}\")"
   ]
  },
  {
   "cell_type": "markdown",
   "metadata": {},
   "source": [
    "### Paso 6: Construcción del Modelo de Clasificación\n",
    "Ahora construiremos un modelo de clasificación para predecir la calidad como una variable categórica."
   ]
  },
  {
   "cell_type": "code",
   "execution_count": null,
   "metadata": {},
   "outputs": [],
   "source": [
    "# Modelo de clasificación con Random Forest\n",
    "clf_model = RandomForestClassifier(random_state=42)\n",
    "clf_model.fit(X_train, y_train)\n",
    "\n",
    "y_pred_clf = clf_model.predict(X_test)\n",
    "\n",
    "# Métricas de evaluación\n",
    "accuracy = accuracy_score(y_test, y_pred_clf)\n",
    "print(f\"Precisión del modelo de clasificación: {accuracy:.2f}\")\n",
    "\n",
    "print(\"Reporte de clasificación:\")\n",
    "print(classification_report(y_test, y_pred_clf))"
   ]
  },
  {
   "cell_type": "markdown",
   "metadata": {},
   "source": [
    "### Paso 7: Visualización de Resultados\n",
    "Graficaremos las predicciones frente a los valores reales para evaluar visualmente los modelos."
   ]
  },
  {
   "cell_type": "code",
   "execution_count": null,
   "metadata": {},
   "outputs": [],
   "source": [
    "# Gráfico de regresión\n",
    "plt.figure(figsize=(8, 6))\n",
    "plt.scatter(y_test, y_pred_reg, alpha=0.5, color='blue')\n",
    "plt.title('Regresión: Predicciones vs Valores Reales', fontsize=14)\n",
    "plt.xlabel('Valores Reales (Calidad)', fontsize=12)\n",
    "plt.ylabel('Predicciones (Calidad)', fontsize=12)\n",
    "plt.plot([0, 10], [0, 10], '--', color='red')\n",
    "plt.show()\n",
    "\n",
    "# Gráfico de clasificación (matriz de confusión)\n",
    "from sklearn.metrics import ConfusionMatrixDisplay\n",
    "ConfusionMatrixDisplay.from_estimator(clf_model, X_test, y_test, cmap='Blues')\n",
    "plt.title('Clasificación: Matriz de Confusión', fontsize=14)\n",
    "plt.show()"
   ]
  },
  {
   "cell_type": "markdown",
   "metadata": {},
   "source": [
    "### Paso 8: Conclusiones\n",
    "- La regresión lineal proporciona una medida continua de predicción con un $R^2$ y MSE razonables.\n",
    "- El modelo de clasificación (Random Forest) muestra buena precisión para clasificar correctamente la calidad del vino.\n",
    "- La selección adecuada de características y la evaluación de modelos son esenciales para un buen rendimiento."
   ]
  }
 ],
 "metadata": {
  "language_info": {
   "name": "python"
  }
 },
 "nbformat": 4,
 "nbformat_minor": 4
}

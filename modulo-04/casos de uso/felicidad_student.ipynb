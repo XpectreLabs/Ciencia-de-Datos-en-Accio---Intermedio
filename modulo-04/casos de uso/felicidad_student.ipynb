{
 "cells": [
  {
   "cell_type": "markdown",
   "metadata": {},
   "source": [
    "# Caso de Uso: Predicción del Índice de Felicidad\n",
    "### Objetivo\n",
    "Construir un modelo que prediga el puntaje de felicidad de un país basándose en características como el PIB per cápita, \n",
    "esperanza de vida saludable, soporte social, percepción de corrupción, y más.\n",
    "\n",
    "### Dataset\n",
    "Usaremos el **World Happiness Report Dataset**, un conjunto de datos público que evalúa el bienestar de los países según varias métricas económicas y sociales."
   ]
  },
  {
   "cell_type": "markdown",
   "metadata": {},
   "source": [
    "### Paso 1: Cargar el Dataset y Exploración de Datos\n",
    "Primero, cargaremos el dataset y exploraremos su contenido.\n",
    "Instrucción: Completa las líneas para cargar el dataset y mostrar un resumen inicial."
   ]
  },
  {
   "cell_type": "code",
   "execution_count": null,
   "metadata": {},
   "outputs": [],
   "source": [
    "import pandas as pd\n",
    "import matplotlib.pyplot as plt\n",
    "from sklearn.model_selection import train_test_split\n",
    "from sklearn.linear_model import LinearRegression\n",
    "from sklearn.tree import DecisionTreeRegressor\n",
    "from sklearn.metrics import mean_squared_error, r2_score\n",
    "\n",
    "# Cargar el dataset\n",
    "url = 'https://raw.githubusercontent.com/datasciencedojo/datasets/master/WorldHappinessReport.csv'\n",
    "df = pd.read_csv(url)\n",
    "print(\"Primeras filas del dataset:\")\n",
    "print(df.head())\n",
    "\n",
    "# Resumen estadístico\n",
    "print(\"Resumen estadístico del dataset:\")\n",
    "print(df.describe())"
   ]
  },
  {
   "cell_type": "markdown",
   "metadata": {},
   "source": [
    "### Paso 2: Análisis Exploratorio de Datos (EDA)\n",
    "Instrucciones:\n",
    "1. Identifica la distribución del puntaje de felicidad (`Happiness Score`) usando un histograma.\n",
    "2. Analiza la relación entre las variables económicas y sociales con el puntaje de felicidad utilizando gráficos de dispersión."
   ]
  },
  {
   "cell_type": "code",
   "execution_count": null,
   "metadata": {},
   "outputs": [],
   "source": []
  },
  {
   "cell_type": "markdown",
   "metadata": {},
   "source": [
    "### Paso 3: Preprocesamiento de Datos\n",
    "Instrucciones:\n",
    "1. Elimina columnas innecesarias (como `Country` y `Region`).\n",
    "2. Rellena valores faltantes si los hay.\n",
    "3. Divide los datos en características (`X`) y la variable objetivo (`y`)."
   ]
  },
  {
   "cell_type": "markdown",
   "metadata": {},
   "source": [
    "### Paso 4: División del Dataset\n",
    "Instrucciones:\n",
    "1. Divide los datos en conjuntos de entrenamiento (80%) y prueba (20%).\n",
    "2. Usa `train_test_split` con una semilla (`random_state`) para resultados reproducibles."
   ]
  },
  {
   "cell_type": "markdown",
   "metadata": {},
   "source": [
    "### Paso 5: Construcción y Evaluación del Modelo\n",
    "Instrucciones:\n",
    "1. Entrena un modelo de **Regresión Lineal** para predecir el puntaje de felicidad.\n",
    "2. Calcula métricas como el error cuadrático medio (MSE) y el coeficiente de determinación ($R^2$).\n",
    "3. Entrena un modelo de **Regresión de Árbol de Decisión** y evalúa sus métricas.\n",
    "4. Compara ambos modelos."
   ]
  },
  {
   "cell_type": "markdown",
   "metadata": {},
   "source": [
    "### Paso 6: Visualización de Resultados\n",
    "Instrucciones:\n",
    "1. Grafica las predicciones de ambos modelos contra los valores reales del puntaje de felicidad.\n",
    "2. Usa un gráfico de dispersión con una línea de referencia ideal (`predicciones = valores reales`)."
   ]
  },
  {
   "cell_type": "markdown",
   "metadata": {},
   "source": [
    "### Paso 7: Conclusión\n",
    "Instrucciones:\n",
    "1. Compara las métricas de los dos modelos y discute cuál se desempeñó mejor.\n",
    "2. Identifica posibles mejoras, como agregar más características o ajustar los hiperparámetros."
   ]
  }
 ],
 "metadata": {
  "language_info": {
   "name": "python"
  }
 },
 "nbformat": 4,
 "nbformat_minor": 4
}

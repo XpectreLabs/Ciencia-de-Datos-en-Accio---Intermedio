{
 "cells": [
  {
   "cell_type": "markdown",
   "metadata": {},
   "source": [
    "# Caso de Uso: Predicción de Enfermedades Cardíacas\n",
    "### Objetivo\n",
    "Construir un modelo que prediga si un paciente tiene una enfermedad cardíaca, basándose en variables como:\n",
    "- Edad\n",
    "- Colesterol\n",
    "- Presión arterial\n",
    "- Frecuencia cardíaca máxima\n",
    "\n",
    "### Dataset\n",
    "Usaremos el **Heart Disease Dataset**, un conjunto de datos público con información médica de pacientes y una etiqueta binaria (`target`) que indica si tienen enfermedad cardíaca (1) o no (0)."
   ]
  },
  {
   "cell_type": "markdown",
   "metadata": {},
   "source": [
    "### Paso 1: Cargar el Dataset y Exploración de Datos\n",
    "Primero, cargaremos el dataset y exploraremos sus columnas y distribución.\n",
    "Instrucción: Completa las líneas para cargar el dataset y mostrar un resumen inicial."
   ]
  },
  {
   "cell_type": "code",
   "execution_count": null,
   "metadata": {},
   "outputs": [],
   "source": [
    "import pandas as pd\n",
    "import matplotlib.pyplot as plt\n",
    "from sklearn.model_selection import train_test_split\n",
    "from sklearn.linear_model import LogisticRegression\n",
    "from sklearn.ensemble import RandomForestClassifier\n",
    "from sklearn.metrics import accuracy_score, classification_report, ConfusionMatrixDisplay\n",
    "\n",
    "# Cargar el dataset\n",
    "url = 'https://raw.githubusercontent.com/datasciencedojo/datasets/master/HeartDisease.csv'\n",
    "df = pd.read_csv(url)\n",
    "print(\"Primeras filas del dataset:\")\n",
    "print(df.head())\n",
    "\n",
    "# Resumen estadístico\n",
    "print(\"Resumen estadístico del dataset:\")\n",
    "print(df.describe())"
   ]
  },
  {
   "cell_type": "markdown",
   "metadata": {},
   "source": [
    "### Paso 2: Análisis Exploratorio de Datos (EDA)\n",
    "Exploraremos cómo se distribuyen las variables más relevantes y su relación con la enfermedad cardíaca."
   ]
  },
  {
   "cell_type": "code",
   "execution_count": null,
   "metadata": {},
   "outputs": [],
   "source": [
    "# Distribución de la variable objetivo (target)\n",
    "plt.figure(figsize=(6, 4))\n",
    "df['target'].value_counts().plot(kind='bar', color=['skyblue', 'orange'], edgecolor='black')\n",
    "plt.title('Distribución de Enfermedad Cardíaca', fontsize=14)\n",
    "plt.xlabel('0 = Sin enfermedad, 1 = Con enfermedad', fontsize=12)\n",
    "plt.ylabel('Frecuencia', fontsize=12)\n",
    "plt.show()\n",
    "\n",
    "# Relación entre edad y enfermedad cardíaca\n",
    "plt.figure(figsize=(8, 6))\n",
    "plt.scatter(df['age'], df['target'], alpha=0.6, color='purple')\n",
    "plt.title('Relación entre Edad y Enfermedad Cardíaca', fontsize=14)\n",
    "plt.xlabel('Edad', fontsize=12)\n",
    "plt.ylabel('Enfermedad Cardíaca (0 o 1)', fontsize=12)\n",
    "plt.show()"
   ]
  },
  {
   "cell_type": "markdown",
   "metadata": {},
   "source": [
    "### Paso 3: Preprocesamiento de Datos\n",
    "Prepararemos los datos para el modelo, seleccionando características relevantes y dividiendo en conjuntos de entrenamiento y prueba."
   ]
  },
  {
   "cell_type": "code",
   "execution_count": null,
   "metadata": {},
   "outputs": [],
   "source": [
    "# Selección de características\n",
    "X = df[['age', 'chol', 'trestbps', 'thalach', 'cp']]\n",
    "y = df['target']\n",
    "\n",
    "# División de los datos\n",
    "X_train, X_test, y_train, y_test = train_test_split(X, y, test_size=0.2, random_state=42)\n",
    "print(f\"Tamaño del conjunto de entrenamiento: {X_train.shape[0]} ejemplos\")\n",
    "print(f\"Tamaño del conjunto de prueba: {X_test.shape[0]} ejemplos\")"
   ]
  },
  {
   "cell_type": "markdown",
   "metadata": {},
   "source": [
    "### Paso 4: Construcción del Modelo\n",
    "Entrenaremos dos modelos de clasificación: Logistic Regression y Random Forest."
   ]
  },
  {
   "cell_type": "code",
   "execution_count": null,
   "metadata": {},
   "outputs": [],
   "source": [
    "# Modelo 1: Regresión Logística\n",
    "log_reg = LogisticRegression()\n",
    "log_reg.fit(X_train, y_train)\n",
    "y_pred_log = log_reg.predict(X_test)\n",
    "\n",
    "# Modelo 2: Random Forest\n",
    "rf_model = RandomForestClassifier(random_state=42)\n",
    "rf_model.fit(X_train, y_train)\n",
    "y_pred_rf = rf_model.predict(X_test)"
   ]
  },
  {
   "cell_type": "markdown",
   "metadata": {},
   "source": [
    "### Paso 5: Evaluación del Modelo\n",
    "Evaluaremos ambos modelos utilizando métricas como accuracy y un reporte de clasificación.\n",
    "Instrucción: Completa las líneas para calcular accuracy y mostrar el reporte de clasificación."
   ]
  },
  {
   "cell_type": "code",
   "execution_count": null,
   "metadata": {},
   "outputs": [],
   "source": [
    "# Evaluación de Regresión Logística\n",
    "accuracy_log = accuracy_score(y_test, y_pred_log)\n",
    "print(f\"Precisión de Regresión Logística: {accuracy_log:.2f}\")\n",
    "print(\"Reporte de Clasificación para Regresión Logística:\")\n",
    "print(classification_report(y_test, y_pred_log))\n",
    "\n",
    "# Evaluación de Random Forest\n",
    "accuracy_rf = accuracy_score(y_test, y_pred_rf)\n",
    "print(f\"Precisión de Random Forest: {accuracy_rf:.2f}\")\n",
    "print(\"Reporte de Clasificación para Random Forest:\")\n",
    "print(classification_report(y_test, y_pred_rf))"
   ]
  },
  {
   "cell_type": "markdown",
   "metadata": {},
   "source": [
    "### Paso 6: Visualización de Resultados\n",
    "Visualizaremos las matrices de confusión de ambos modelos para entender mejor los errores de clasificación."
   ]
  },
  {
   "cell_type": "code",
   "execution_count": null,
   "metadata": {},
   "outputs": [],
   "source": [
    "# Matriz de confusión para Regresión Logística\n",
    "ConfusionMatrixDisplay.from_predictions(y_test, y_pred_log, cmap='Blues')\n",
    "plt.title('Matriz de Confusión: Regresión Logística', fontsize=14)\n",
    "plt.show()\n",
    "\n",
    "# Matriz de confusión para Random Forest\n",
    "ConfusionMatrixDisplay.from_predictions(y_test, y_pred_rf, cmap='Greens')\n",
    "plt.title('Matriz de Confusión: Random Forest', fontsize=14)\n",
    "plt.show()"
   ]
  },
  {
   "cell_type": "markdown",
   "metadata": {},
   "source": [
    "### Conclusión\n",
    "1. Compara la precisión de ambos modelos.\n",
    "2. Analiza cuál tiene mejor desempeño según las métricas y la matriz de confusión.\n",
    "3. Comenta cómo se podrían mejorar los resultados (por ejemplo, seleccionando más características o ajustando hiperparámetros)."
   ]
  }
 ],
 "metadata": {
  "language_info": {
   "name": "python"
  }
 },
 "nbformat": 4,
 "nbformat_minor": 4
}

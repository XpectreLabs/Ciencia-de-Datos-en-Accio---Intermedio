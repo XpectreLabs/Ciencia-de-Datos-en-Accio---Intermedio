{
 "cells": [
  {
   "cell_type": "markdown",
   "metadata": {},
   "source": [
    "# Caso de Uso: Clasificación de Plantas de Energía\n",
    "### Objetivo\n",
    "Construir un modelo que clasifique plantas de energía según su tipo de combustible (solar, eólica, hidroeléctrica, etc.), \n",
    "basándose en características como capacidad de generación, país, y año de inicio de operación.\n",
    "\n",
    "### Dataset\n",
    "Usaremos el **Global Power Plant Database**, que contiene información sobre miles de plantas de energía en todo el mundo."
   ]
  },
  {
   "cell_type": "markdown",
   "metadata": {},
   "source": [
    "### Paso 1: Cargar el Dataset y Exploración de Datos\n",
    "Primero, cargaremos el dataset y exploraremos su contenido.\n",
    "Instrucción: Completa las líneas para cargar el dataset y mostrar un resumen inicial."
   ]
  },
  {
   "cell_type": "code",
   "execution_count": null,
   "metadata": {},
   "outputs": [],
   "source": [
    "import pandas as pd\n",
    "import matplotlib.pyplot as plt\n",
    "from sklearn.model_selection import train_test_split\n",
    "from sklearn.ensemble import RandomForestClassifier\n",
    "from sklearn.tree import DecisionTreeClassifier\n",
    "from sklearn.metrics import accuracy_score, classification_report, ConfusionMatrixDisplay\n",
    "\n",
    "# Cargar el dataset\n",
    "url = 'https://raw.githubusercontent.com/wri/global-power-plant-database/master/source_databases_csv/database_IND.csv'\n",
    "df = pd.read_csv(url)\n",
    "print(\"Primeras filas del dataset:\")\n",
    "print(df.head())\n",
    "\n",
    "# Resumen estadístico\n",
    "print(\"Resumen estadístico del dataset:\")\n",
    "print(df.describe())"
   ]
  },
  {
   "cell_type": "markdown",
   "metadata": {},
   "source": [
    "### Paso 2: Análisis Exploratorio de Datos (EDA)\n",
    "Exploraremos la distribución de las categorías de combustible y la capacidad de generación."
   ]
  },
  {
   "cell_type": "code",
   "execution_count": null,
   "metadata": {},
   "outputs": [],
   "source": [
    "# Distribución de tipos de combustible\n",
    "plt.figure(figsize=(8, 6))\n",
    "df['primary_fuel'].value_counts().plot(kind='bar', color='skyblue', edgecolor='black')\n",
    "plt.title('Distribución de Tipos de Combustible', fontsize=14)\n",
    "plt.xlabel('Tipo de Combustible', fontsize=12)\n",
    "plt.ylabel('Frecuencia', fontsize=12)\n",
    "plt.xticks(rotation=45)\n",
    "plt.show()\n",
    "\n",
    "# Relación entre capacidad y tipo de combustible\n",
    "plt.figure(figsize=(8, 6))\n",
    "df.boxplot(column='capacity_mw', by='primary_fuel', grid=False)\n",
    "plt.title('Capacidad de Generación por Tipo de Combustible', fontsize=14)\n",
    "plt.xlabel('Tipo de Combustible', fontsize=12)\n",
    "plt.ylabel('Capacidad (MW)', fontsize=12)\n",
    "plt.xticks(rotation=45)\n",
    "plt.suptitle('')  # Quita el título automático del boxplot\n",
    "plt.show()"
   ]
  },
  {
   "cell_type": "markdown",
   "metadata": {},
   "source": [
    "### Paso 3: Preprocesamiento de Datos\n",
    "Prepararemos los datos eliminando valores faltantes y convirtiendo variables categóricas en numéricas."
   ]
  },
  {
   "cell_type": "code",
   "execution_count": null,
   "metadata": {},
   "outputs": [],
   "source": [
    "# Preprocesamiento\n",
    "df = df.dropna()  # Eliminar filas con valores faltantes\n",
    "df['primary_fuel'] = df['primary_fuel'].astype('category').cat.codes  # Convertir combustible a números\n",
    "\n",
    "# Selección de características\n",
    "X = df[['capacity_mw', 'latitude', 'longitude', 'commissioning_year']]\n",
    "y = df['primary_fuel']\n",
    "\n",
    "# División de los datos\n",
    "X_train, X_test, y_train, y_test = train_test_split(X, y, test_size=0.2, random_state=42)\n",
    "print(f\"Tamaño del conjunto de entrenamiento: {X_train.shape[0]} ejemplos\")\n",
    "print(f\"Tamaño del conjunto de prueba: {X_test.shape[0]} ejemplos\")"
   ]
  },
  {
   "cell_type": "markdown",
   "metadata": {},
   "source": [
    "### Paso 4: Construcción del Modelo\n",
    "Entrenaremos dos modelos: Decision Tree y Random Forest."
   ]
  },
  {
   "cell_type": "code",
   "execution_count": null,
   "metadata": {},
   "outputs": [],
   "source": [
    "# Modelo 1: Árbol de Decisión\n",
    "dt_model = DecisionTreeClassifier(random_state=42)\n",
    "dt_model.fit(X_train, y_train)\n",
    "y_pred_dt = dt_model.predict(X_test)\n",
    "\n",
    "# Modelo 2: Random Forest\n",
    "rf_model = RandomForestClassifier(random_state=42)\n",
    "rf_model.fit(X_train, y_train)\n",
    "y_pred_rf = rf_model.predict(X_test)"
   ]
  },
  {
   "cell_type": "markdown",
   "metadata": {},
   "source": [
    "### Paso 5: Evaluación del Modelo\n",
    "Evaluaremos ambos modelos usando métricas como `accuracy` y un reporte de clasificación.\n",
    "Instrucción: Completa las líneas para calcular accuracy y mostrar el reporte de clasificación."
   ]
  },
  {
   "cell_type": "code",
   "execution_count": null,
   "metadata": {},
   "outputs": [],
   "source": [
    "# Evaluación del Árbol de Decisión\n",
    "accuracy_dt = accuracy_score(y_test, y_pred_dt)\n",
    "print(f\"Precisión del Árbol de Decisión: {accuracy_dt:.2f}\")\n",
    "print(\"Reporte de Clasificación para Árbol de Decisión:\")\n",
    "print(classification_report(y_test, y_pred_dt))\n",
    "\n",
    "# Evaluación de Random Forest\n",
    "accuracy_rf = accuracy_score(y_test, y_pred_rf)\n",
    "print(f\"Precisión de Random Forest: {accuracy_rf:.2f}\")\n",
    "print(\"Reporte de Clasificación para Random Forest:\")\n",
    "print(classification_report(y_test, y_pred_rf))"
   ]
  },
  {
   "cell_type": "markdown",
   "metadata": {},
   "source": [
    "### Paso 6: Visualización de Resultados\n",
    "Visualizaremos las matrices de confusión para entender mejor los aciertos y errores de clasificación."
   ]
  },
  {
   "cell_type": "code",
   "execution_count": null,
   "metadata": {},
   "outputs": [],
   "source": [
    "# Matriz de confusión para Árbol de Decisión\n",
    "ConfusionMatrixDisplay.from_predictions(y_test, y_pred_dt, cmap='Blues')\n",
    "plt.title('Matriz de Confusión: Árbol de Decisión', fontsize=14)\n",
    "plt.show()\n",
    "\n",
    "# Matriz de confusión para Random Forest\n",
    "ConfusionMatrixDisplay.from_predictions(y_test, y_pred_rf, cmap='Greens')\n",
    "plt.title('Matriz de Confusión: Random Forest', fontsize=14)\n",
    "plt.show()"
   ]
  },
  {
   "cell_type": "markdown",
   "metadata": {},
   "source": [
    "### Conclusión\n",
    "1. Compara las métricas de ambos modelos.\n",
    "2. Analiza cuál modelo tuvo mejor desempeño general.\n",
    "3. Discute posibles mejoras (ajustar hiperparámetros, seleccionar más características, etc.)."
   ]
  }
 ],
 "metadata": {
  "language_info": {
   "name": "python"
  }
 },
 "nbformat": 4,
 "nbformat_minor": 4
}

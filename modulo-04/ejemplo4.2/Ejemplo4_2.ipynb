{
  "nbformat": 4,
  "nbformat_minor": 0,
  "metadata": {
    "colab": {
      "provenance": []
    },
    "kernelspec": {
      "name": "python3",
      "display_name": "Python 3"
    },
    "language_info": {
      "name": "python"
    }
  },
  "cells": [
    {
      "cell_type": "markdown",
      "source": [
        "# Dividir el Dataset en Conjuntos de Entrenamiento y Prueba\n"
      ],
      "metadata": {
        "id": "XEWtufkWxEuT"
      }
    },
    {
      "cell_type": "markdown",
      "source": [
        "En este ejercicio, trabajarás con un conjunto de datos simple para practicar la división del dataset en conjuntos de entrenamiento y prueba utilizando la función `train_test_split` de scikit-learn.\n",
        "\n",
        "Tareas:\n",
        "1. Cargar un dataset simple con características (X) y etiquetas (y).\n",
        "2. Dividir el conjunto de datos en conjuntos de entrenamiento y prueba.\n",
        "3. Imprimir los datos de entrenamiento y prueba para comprobar el resultado.\n"
      ],
      "metadata": {
        "id": "x4TDpLLYxL20"
      }
    },
    {
      "cell_type": "code",
      "source": [
        "# Paso 1: Importar las librerías necesarias\n",
        "# -------------------------------------------\n",
        "from sklearn.model_selection import train_test_split\n",
        "import numpy as np\n",
        "\n",
        "# Paso 2: Crear el dataset simple\n",
        "# -------------------------------------------\n",
        "# Creamos un conjunto de datos simple con 10 ejemplos (X) y sus etiquetas (y).\n",
        "X = np.arange(1, 11).reshape(-1, 1)  # Feature\n",
        "y = [2, 4, 6, 8, 10, 12, 14, 16, 18, 20]  # Target\n"
      ],
      "metadata": {
        "id": "WdYqXvrNxLEy"
      },
      "execution_count": 1,
      "outputs": []
    },
    {
      "cell_type": "code",
      "source": [
        "# Paso 3: Dividir el dataset en conjuntos de entrenamiento y prueba\n",
        "# -------------------------------------------\n",
        "# Se divide el dataset con test_size=0.2, lo que indica que el 20% será para prueba.\n",
        "X_train, X_test, y_train, y_test = train_test_split(X, y, test_size=0.2, random_state=42)"
      ],
      "metadata": {
        "id": "SiiVc6OCxlER"
      },
      "execution_count": 2,
      "outputs": []
    },
    {
      "cell_type": "code",
      "source": [
        "# Paso 4: Verificar los conjuntos de datos de entrenamiento y prueba\n",
        "# -------------------------------------------\n",
        "print(\"Datos de entrenamiento:\", X_train.flatten())\n",
        "print(\"Datos de prueba:\", X_test.flatten())\n",
        "\n",
        "# ¡Listo! Ahora has dividido"
      ],
      "metadata": {
        "colab": {
          "base_uri": "https://localhost:8080/"
        },
        "id": "-A3rUNkvxllj",
        "outputId": "5c204a8a-c856-4045-dee2-1d71c93ef8bf"
      },
      "execution_count": 3,
      "outputs": [
        {
          "output_type": "stream",
          "name": "stdout",
          "text": [
            "Datos de entrenamiento: [ 6  1  8  3 10  5  4  7]\n",
            "Datos de prueba: [9 2]\n"
          ]
        }
      ]
    }
  ]
}
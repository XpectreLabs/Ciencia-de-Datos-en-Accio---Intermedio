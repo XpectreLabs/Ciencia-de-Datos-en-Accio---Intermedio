{
 "cells": [
  {
   "cell_type": "markdown",
   "metadata": {},
   "source": [
    "# Caso de Uso: Predicción de Precios de Casas en California\n",
    "### Objetivo\n",
    "Desarrollar un modelo de regresión lineal para predecir el precio medio de las casas en California, \n",
    "utilizando características como ingresos medios, número de habitaciones, etc.\n",
    "\n",
    "### Dataset\n",
    "Usaremos el **California Housing Dataset**, un conjunto de datos público que contiene información sobre:\n",
    "- Características como ingreso medio, edad media de las casas, latitud y longitud.\n",
    "- Precio medio de las casas (variable objetivo).\n"
   ]
  },
  {
   "cell_type": "markdown",
   "metadata": {},
   "source": [
    "### Paso 1: Cargar el Dataset y Librerías\n",
    "Importaremos las librerías necesarias y cargaremos el dataset.\n"
   ]
  },
  {
   "cell_type": "code",
   "execution_count": null,
   "metadata": {},
   "outputs": [],
   "source": [
    "from sklearn.datasets import fetch_california_housing\n",
    "import pandas as pd\n",
    "import numpy as np\n",
    "import matplotlib.pyplot as plt\n",
    "from sklearn.model_selection import train_test_split\n",
    "from sklearn.linear_model import LinearRegression\n",
    "from sklearn.metrics import mean_squared_error, r2_score\n",
    "\n",
    "# Cargar el dataset\n",
    "california = fetch_california_housing(as_frame=True)\n",
    "df = california.frame\n",
    "print(df.head())"
   ]
  },
  {
   "cell_type": "markdown",
   "metadata": {},
   "source": [
    "### Paso 2: Exploración de Datos (EDA)\n",
    "Realizaremos una inspección inicial de los datos para entender su distribución y relaciones entre variables.\n"
   ]
  },
  {
   "cell_type": "code",
   "execution_count": null,
   "metadata": {},
   "outputs": [],
   "source": [
    "# Resumen estadístico\n",
    "print(df.describe())\n",
    "\n",
    "# Matriz de correlación\n",
    "correlation_matrix = df.corr()\n",
    "plt.figure(figsize=(10, 8))\n",
    "plt.imshow(correlation_matrix, cmap='coolwarm', interpolation='none')\n",
    "plt.colorbar()\n",
    "plt.title('Matriz de Correlación')\n",
    "plt.show()"
   ]
  },
  {
   "cell_type": "markdown",
   "metadata": {},
   "source": [
    "### Paso 3: Selección de Características\n",
    "Para simplificar, seleccionaremos las características con mayor correlación con la variable objetivo ('MedHouseVal').\n"
   ]
  },
  {
   "cell_type": "code",
   "execution_count": null,
   "metadata": {},
   "outputs": [],
   "source": [
    "# Seleccionar características relevantes\n",
    "correlaciones = df.corr()['MedHouseVal'].sort_values(ascending=False)\n",
    "print(correlaciones)\n",
    "\n",
    "# Usaremos 'MedInc' (ingreso medio) como predictor principal\n",
    "X = df[['MedInc']]\n",
    "y = df['MedHouseVal']\n",
    "\n",
    "# Visualizar relación entre MedInc y MedHouseVal\n",
    "plt.scatter(X, y, alpha=0.5)\n",
    "plt.title('Relación entre ingreso medio y precio medio de las casas')\n",
    "plt.xlabel('Ingreso Medio (MedInc)')\n",
    "plt.ylabel('Precio Medio de la Vivienda (MedHouseVal)')\n",
    "plt.show()"
   ]
  },
  {
   "cell_type": "markdown",
   "metadata": {},
   "source": [
    "### Paso 4: División de Datos en Entrenamiento y Prueba\n",
    "Dividiremos los datos en conjuntos de entrenamiento y prueba (80%-20%).\n"
   ]
  },
  {
   "cell_type": "code",
   "execution_count": null,
   "metadata": {},
   "outputs": [],
   "source": [
    "X_train, X_test, y_train, y_test = train_test_split(X, y, test_size=0.2, random_state=42)\n",
    "print(f\"Tamaño del conjunto de entrenamiento: {X_train.shape[0]} ejemplos\")\n",
    "print(f\"Tamaño del conjunto de prueba: {X_test.shape[0]} ejemplos\")"
   ]
  },
  {
   "cell_type": "markdown",
   "metadata": {},
   "source": [
    "### Paso 5: Entrenar el Modelo de Regresión Lineal\n",
    "Usaremos `LinearRegression` de Scikit-learn para entrenar el modelo.\n"
   ]
  },
  {
   "cell_type": "code",
   "execution_count": null,
   "metadata": {},
   "outputs": [],
   "source": [
    "# Entrenar el modelo\n",
    "model = LinearRegression()\n",
    "model.fit(X_train, y_train)\n",
    "\n",
    "print(f\"Pendiente (coeficiente): {model.coef_[0]:.2f}\")\n",
    "print(f\"Intercepto: {model.intercept_:.2f}\")"
   ]
  },
  {
   "cell_type": "markdown",
   "metadata": {},
   "source": [
    "### Paso 6: Evaluar el Modelo\n",
    "Evaluaremos el modelo utilizando el Error Cuadrático Medio (MSE) y el Coeficiente de Determinación ($R^2$).\n"
   ]
  },
  {
   "cell_type": "code",
   "execution_count": null,
   "metadata": {},
   "outputs": [],
   "source": [
    "# Realizar predicciones y calcular métricas\n",
    "y_pred = model.predict(X_test)\n",
    "\n",
    "mse = mean_squared_error(y_test, y_pred)\n",
    "r2 = r2_score(y_test, y_pred)\n",
    "\n",
    "print(f\"Error Cuadrático Medio (MSE): {mse:.2f}\")\n",
    "print(f\"Coeficiente de Determinación ($R^2$): {r2:.2f}\")"
   ]
  },
  {
   "cell_type": "markdown",
   "metadata": {},
   "source": [
    "### Paso 7: Visualizar los Resultados\n",
    "Graficaremos las predicciones del modelo en comparación con los valores reales.\n"
   ]
  },
  {
   "cell_type": "code",
   "execution_count": null,
   "metadata": {},
   "outputs": [],
   "source": [
    "# Gráfico de predicciones vs valores reales\n",
    "plt.scatter(y_test, y_pred, alpha=0.5)\n",
    "plt.title('Predicciones vs Valores Reales')\n",
    "plt.xlabel('Valores Reales (y_test)')\n",
    "plt.ylabel('Predicciones (y_pred)')\n",
    "plt.plot([0, 5], [0, 5], '--', color='red')\n",
    "plt.show()"
   ]
  },
  {
   "cell_type": "markdown",
   "metadata": {},
   "source": [
    "### Paso 8: Conclusión\n",
    "1. El modelo captura la relación entre el ingreso medio y el precio medio de las casas.\n",
    "2. Aunque simple, este modelo demuestra la relación lineal entre estas variables.\n",
    "3. Los siguientes pasos podrían incluir la incorporación de más características relevantes y la optimización del modelo.\n"
   ]
  }
 ],
 "metadata": {
  "language_info": {
   "name": "python"
  }
 },
 "nbformat": 4,
 "nbformat_minor": 4
}

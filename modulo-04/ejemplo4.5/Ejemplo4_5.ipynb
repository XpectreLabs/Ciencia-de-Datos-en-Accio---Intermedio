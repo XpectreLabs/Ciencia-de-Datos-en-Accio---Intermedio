{
  "nbformat": 4,
  "nbformat_minor": 0,
  "metadata": {
    "colab": {
      "provenance": []
    },
    "kernelspec": {
      "name": "python3",
      "display_name": "Python 3"
    },
    "language_info": {
      "name": "python"
    }
  },
  "cells": [
    {
      "cell_type": "markdown",
      "source": [
        "# Creación de Clústeres Usando K-Means\n",
        "\n",
        "Descripción:\n",
        "En este ejercicio, utilizaremos el algoritmo K-Means para agrupar un conjunto de datos bidimensionales en dos clústeres.\n",
        "Se calcularán los centroides de cada clúster y se asignarán etiquetas a cada punto.\n",
        "\n",
        "Tareas:\n",
        "1. Crear un conjunto de datos bidimensional.\n",
        "2. Aplicar el algoritmo K-Means para formar dos clústeres.\n",
        "3. Obtener los centroides de los clústeres formados.\n",
        "4. Asignar etiquetas a cada punto basado en el clúster al que pertenece."
      ],
      "metadata": {
        "id": "mQVDCuDjCRQO"
      }
    },
    {
      "cell_type": "code",
      "execution_count": null,
      "metadata": {
        "id": "t8ao0CPnCN1v"
      },
      "outputs": [],
      "source": [
        "# Paso 1: Importar las librerías necesarias\n",
        "# -------------------------------------------\n",
        "from sklearn.cluster import KMeans\n",
        "import numpy as np\n",
        "\n",
        "# Paso 2: Crear un conjunto de datos bidimensional\n",
        "# -------------------------------------------\n",
        "# Conjunto de datos de ejemplo con puntos en dos dimensiones.\n",
        "X = np.array([[1, 2], [1, 4], [1, 0], [10, 2], [10, 4], [10, 0]])"
      ]
    },
    {
      "cell_type": "code",
      "source": [
        "# Paso 3: Aplicar el algoritmo K-Means para formar clústeres\n",
        "# -------------------------------------------\n",
        "# Inicializamos el modelo para formar 2 clústeres y lo ajustamos a los datos.\n",
        "kmeans = KMeans(n_clusters=2, random_state=0).fit(X)\n",
        "\n",
        "# Paso 4: Obtener los centroides de los clústeres\n",
        "# -------------------------------------------\n",
        "print(\"Centroides:\", kmeans.cluster_centers_)"
      ],
      "metadata": {
        "id": "X2uH2FB_Cm7E"
      },
      "execution_count": null,
      "outputs": []
    },
    {
      "cell_type": "code",
      "source": [
        "# Paso 5: Obtener las etiquetas asignadas a cada punto\n",
        "# -------------------------------------------\n",
        "print(\"Etiquetas:\", kmeans.labels_)\n",
        "\n",
        "# Explicación adicional:\n",
        "# -------------------------------------------\n",
        "# - `kmeans.cluster_centers_`: Contiene las coordenadas de los centroides de los clústeres.\n",
        "# - `kmeans.labels_`: Es un array que indica a qué clúster pertenece cada punto del conjunto de datos `X`."
      ],
      "metadata": {
        "id": "aLgbs1apCo1C"
      },
      "execution_count": null,
      "outputs": []
    }
  ]
}
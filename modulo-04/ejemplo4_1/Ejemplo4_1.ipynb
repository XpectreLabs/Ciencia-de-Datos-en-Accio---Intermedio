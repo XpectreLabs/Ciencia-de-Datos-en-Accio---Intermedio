{
  "nbformat": 4,
  "nbformat_minor": 0,
  "metadata": {
    "colab": {
      "provenance": []
    },
    "kernelspec": {
      "name": "python3",
      "display_name": "Python 3"
    },
    "language_info": {
      "name": "python"
    }
  },
  "cells": [
    {
      "cell_type": "markdown",
      "source": [
        "#Identificar si un problema es supervisado o no supervisado:"
      ],
      "metadata": {
        "id": "8Rwrg-Xjsh62"
      }
    },
    {
      "cell_type": "code",
      "execution_count": 4,
      "metadata": {
        "colab": {
          "base_uri": "https://localhost:8080/"
        },
        "id": "-1kD8z3usYU7",
        "outputId": "c2a08587-f494-4e1a-b5ec-dd1ff8f5fd1a"
      },
      "outputs": [
        {
          "output_type": "stream",
          "name": "stdout",
          "text": [
            "Problema: Predecir las ventas mensuales de un producto - Tipo: Supervisado\n",
            "Problema: Agrupar clientes según su comportamiento - Tipo: No supervisado\n",
            "Problema: Clasificar correos como spam o no spam - Tipo: Supervisado\n"
          ]
        }
      ],
      "source": [
        "problemas = [\n",
        "            \"Predecir las ventas mensuales de un producto\",\n",
        "            \"Agrupar clientes según su comportamiento\",\n",
        "            \"Clasificar correos como spam o no spam\"\n",
        "        ]\n",
        "\n",
        "tipos = [\"Supervisado\", \"No supervisado\", \"Supervisado\"]\n",
        "\n",
        "for problema, tipo in zip(problemas, tipos):\n",
        "            print(f\"Problema: {problema} - Tipo: {tipo}\")"
      ]
    },
    {
      "cell_type": "markdown",
      "source": [],
      "metadata": {
        "id": "c7NA0loeszFV"
      }
    }
  ]
}
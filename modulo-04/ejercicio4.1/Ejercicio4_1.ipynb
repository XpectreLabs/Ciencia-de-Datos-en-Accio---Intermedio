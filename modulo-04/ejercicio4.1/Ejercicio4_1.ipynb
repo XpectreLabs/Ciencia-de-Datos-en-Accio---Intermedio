{
  "nbformat": 4,
  "nbformat_minor": 0,
  "metadata": {
    "colab": {
      "provenance": []
    },
    "kernelspec": {
      "name": "python3",
      "display_name": "Python 3"
    },
    "language_info": {
      "name": "python"
    }
  },
  "cells": [
    {
      "cell_type": "markdown",
      "source": [
        "# Ejercicio 4.1: Entrenamiento de un Modelo de Regresión Lineal"
      ],
      "metadata": {
        "id": "Cp4x4kYi4TxM"
      }
    },
    {
      "cell_type": "markdown",
      "source": [
        "Entrenar un modelo de regresión lineal para predecir los salarios basados en años de experiencia.\n",
        "\n",
        "Pasos generales:\n",
        "1. Importar las librerías necesarias.\n",
        "2. Cargar el dataset y preparar los datos.\n",
        "3. Dividir los datos en conjuntos de entrenamiento y prueba.\n",
        "4. Entrenar el modelo de regresión lineal.\n",
        "5. Mostrar los coeficientes y el intercepto del modelo."
      ],
      "metadata": {
        "id": "Pv8zrGYb4WV1"
      }
    },
    {
      "cell_type": "code",
      "execution_count": null,
      "metadata": {
        "id": "VKWGnlZH4LJU"
      },
      "outputs": [],
      "source": [
        "# Paso a paso:\n",
        "\n",
        "# Paso 1: Importar las librerías necesarias\n",
        "# -------------------------------------------\n",
        "\n",
        "\n",
        "# Paso 2: Crear el DataFrame con el dataset\n",
        "# -------------------------------------------\n",
        "# Dataset simple que relaciona los años de experiencia con los salarios.\n",
        "data = {\n",
        "    \"YearsExperience\": [1, 2, 3, 4, 5],\n",
        "    \"Salary\": [35000, 40000, 50000, 60000, 65000]\n",
        "}\n",
        "df = pd.DataFrame(data)"
      ]
    },
    {
      "cell_type": "code",
      "source": [
        "# Paso 3: Separar las características (X) y la variable objetivo (y)\n",
        "# -------------------------------------------\n",
        "\n"
      ],
      "metadata": {
        "id": "mv2q1qH44r4E"
      },
      "execution_count": null,
      "outputs": []
    },
    {
      "cell_type": "code",
      "source": [
        "# Paso 4: Dividir los datos en conjuntos de entrenamiento y prueba\n",
        "# -------------------------------------------\n"
      ],
      "metadata": {
        "id": "Mo84-ryB40VX"
      },
      "execution_count": null,
      "outputs": []
    },
    {
      "cell_type": "code",
      "source": [
        "# Paso 5: Ajustar el modelo de regresión lineal\n",
        "# -------------------------------------------\n"
      ],
      "metadata": {
        "id": "JP243jqE42Z3"
      },
      "execution_count": null,
      "outputs": []
    },
    {
      "cell_type": "code",
      "source": [
        "# Paso 6: Mostrar los coeficientes (pendiente e intercepto) del modelo\n",
        "# -------------------------------------------\n",
        "\n",
        "\n",
        "# Paso 7: Predecir el salario para un número específico de años de experiencia\n",
        "# -------------------------------------------"
      ],
      "metadata": {
        "id": "1MIDREwO45-2"
      },
      "execution_count": null,
      "outputs": []
    }
  ]
}
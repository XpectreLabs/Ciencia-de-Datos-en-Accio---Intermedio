{
  "nbformat": 4,
  "nbformat_minor": 0,
  "metadata": {
    "colab": {
      "provenance": []
    },
    "kernelspec": {
      "name": "python3",
      "display_name": "Python 3"
    },
    "language_info": {
      "name": "python"
    }
  },
  "cells": [
    {
      "cell_type": "markdown",
      "source": [
        "# Realizar Predicciones con el Modelo de Regresión Lineal\n",
        "\n",
        "En este ejercicio, practicaremos cómo realizar predicciones utilizando el modelo de regresión lineal que se ajustó previamente.\n",
        "Utilizaremos el conjunto de prueba para comparar las predicciones con los valores reales.\n",
        "\n",
        "Tareas:\n",
        "1. Realizar predicciones utilizando el conjunto de prueba.\n",
        "2. Comparar las predicciones con los valores reales.\n",
        "3. Interpretar las predicciones obtenidas."
      ],
      "metadata": {
        "id": "CGOJrHNf_geI"
      }
    },
    {
      "cell_type": "code",
      "execution_count": null,
      "metadata": {
        "id": "jfrIKDOE_eUM"
      },
      "outputs": [],
      "source": [
        "# Paso 1: Importar librerías necesarias\n",
        "# -------------------------------------------\n",
        "\n",
        "# Paso 2: Crear el dataset\n",
        "# -------------------------------------------\n",
        "# Datos que relacionan el gasto en publicidad con las ventas\n",
        "data = {\n",
        "    \"Ad_Spend\": [500, 800, 1200, 1500, 2000, 2500, 3000, 3500, 4000, 4500],\n",
        "    \"Sales\": [5, 7, 10, 13, 18, 20, 25, 30, 35, 40]\n",
        "}\n",
        "df = pd.DataFrame(data)\n",
        "print(\"Dataset:\\n\", df)\n"
      ]
    },
    {
      "cell_type": "code",
      "source": [
        "# Paso 3: Separar las características (X) y la variable objetivo (y)\n",
        "# -------------------------------------------"
      ],
      "metadata": {
        "id": "SPqlvdRr_nSr"
      },
      "execution_count": null,
      "outputs": []
    },
    {
      "cell_type": "code",
      "source": [
        "# Paso 4: Dividir los datos en conjuntos de entrenamiento y prueba\n",
        "# -------------------------------------------"
      ],
      "metadata": {
        "id": "VquQkIY7T2MN"
      },
      "execution_count": null,
      "outputs": []
    },
    {
      "cell_type": "code",
      "source": [
        "# Paso 5: Entrenar el modelo de regresión lineal\n",
        "# -------------------------------------------"
      ],
      "metadata": {
        "id": "md_a3vPjT4Nd"
      },
      "execution_count": null,
      "outputs": []
    },
    {
      "cell_type": "code",
      "source": [
        "# Paso 6: Mostrar los coeficientes del modelo\n",
        "# -------------------------------------------"
      ],
      "metadata": {
        "id": "WIlR-uSGT6Rx"
      },
      "execution_count": null,
      "outputs": []
    },
    {
      "cell_type": "code",
      "source": [
        "# Paso 7: Predecir las ventas para nuevos valores de gasto publicitario\n",
        "# -------------------------------------------"
      ],
      "metadata": {
        "id": "5JxmgdgCT8X9"
      },
      "execution_count": null,
      "outputs": []
    },
    {
      "cell_type": "code",
      "source": [
        "# Paso 8: Evaluar el modelo con el conjunto de prueba\n",
        "# -------------------------------------------"
      ],
      "metadata": {
        "id": "L8Bidqn8T99x"
      },
      "execution_count": null,
      "outputs": []
    },
    {
      "cell_type": "code",
      "source": [
        "# Paso 9: Comparar predicciones con valores reales\n",
        "# -------------------------------------------"
      ],
      "metadata": {
        "id": "a7o4PpdLT_h-"
      },
      "execution_count": null,
      "outputs": []
    }
  ]
}
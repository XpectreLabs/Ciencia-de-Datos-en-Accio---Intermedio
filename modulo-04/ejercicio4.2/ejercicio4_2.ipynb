{
  "nbformat": 4,
  "nbformat_minor": 0,
  "metadata": {
    "colab": {
      "provenance": []
    },
    "kernelspec": {
      "name": "python3",
      "display_name": "Python 3"
    },
    "language_info": {
      "name": "python"
    }
  },
  "cells": [
    {
      "cell_type": "markdown",
      "source": [
        "# Realizar Predicciones con el Modelo de Regresión Lineal\n",
        "\n",
        "En este ejercicio, practicaremos cómo realizar predicciones utilizando el modelo de regresión lineal que se ajustó previamente.\n",
        "Utilizaremos el conjunto de prueba para comparar las predicciones con los valores reales.\n",
        "\n",
        "Tareas:\n",
        "1. Realizar predicciones utilizando el conjunto de prueba.\n",
        "2. Comparar las predicciones con los valores reales.\n",
        "3. Interpretar las predicciones obtenidas."
      ],
      "metadata": {
        "id": "CGOJrHNf_geI"
      }
    },
    {
      "cell_type": "code",
      "execution_count": null,
      "metadata": {
        "id": "jfrIKDOE_eUM"
      },
      "outputs": [],
      "source": [
        "# Paso 1: Importar las librerías necesarias\n",
        "# -------------------------------------------\n",
        "from sklearn.linear_model import LinearRegression\n",
        "import pandas as pd\n",
        "\n",
        "# Paso 2: Crear el DataFrame con el dataset\n",
        "# -------------------------------------------\n",
        "# Dataset simple que relaciona los años de experiencia con los salarios.\n",
        "data = {\n",
        "    \"YearsExperience\": [1, 2, 3, 4, 5],\n",
        "    \"Salary\": [35000, 40000, 50000, 60000, 65000]\n",
        "}\n",
        "df = pd.DataFrame(data)\n",
        "\n",
        "# Paso 3: Separar las características (X) y la variable objetivo (y)\n",
        "# -------------------------------------------\n",
        "X = df[[\"YearsExperience\"]]  # Características: Años de experiencia\n",
        "y = df[\"Salary\"]               # Etiqueta: Salario\n",
        "\n",
        "# Paso 4: Dividir los datos en conjuntos de entrenamiento y prueba\n",
        "# -------------------------------------------\n",
        "# train_test_split divide los datos en 80% para entrenamiento y 20% para prueba.\n",
        "from sklearn.model_selection import train_test_split\n",
        "X_train, X_test, y_train, y_test = train_test_split(X, y, test_size=0.2, random_state=42)\n",
        "\n",
        "# Paso 5: Ajustar el modelo de regresión lineal\n",
        "# -------------------------------------------\n",
        "model = LinearRegression()\n",
        "model.fit(X_train, y_train)\n",
        "\n",
        "# Paso 6: Mostrar los coeficientes (pendiente e intercepto) del modelo\n",
        "# -------------------------------------------\n",
        "print(\"Coeficiente:\", model.coef_)\n",
        "print(\"Intercepto:\", model.intercept_)\n",
        "\n",
        "# Paso 7: Predecir el salario para un número específico de años de experiencia\n",
        "# -------------------------------------------\n",
        "prediccion = model.predict([[3]])  # Predicción para 3 años de experiencia\n",
        "print(f\"Salario estimado para 3 años de experiencia: ${prediccion[0]:,.2f}\")"
      ]
    },
    {
      "cell_type": "code",
      "source": [
        "# Paso 8: Realizar predicciones con el conjunto de prueba\n",
        "# -------------------------------------------\n",
        "\n",
        "\n",
        "# Paso 9: Comparar predicciones con valores reales\n",
        "# -------------------------------------------\n"
      ],
      "metadata": {
        "id": "SPqlvdRr_nSr"
      },
      "execution_count": null,
      "outputs": []
    }
  ]
}
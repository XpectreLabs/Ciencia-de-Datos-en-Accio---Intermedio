{
  "nbformat": 4,
  "nbformat_minor": 0,
  "metadata": {
    "colab": {
      "provenance": []
    },
    "kernelspec": {
      "name": "python3",
      "display_name": "Python 3"
    },
    "language_info": {
      "name": "python"
    }
  },
  "cells": [
    {
      "cell_type": "markdown",
      "source": [
        "# Actividad Final del Módulo 5\n",
        "Seleccionar un dataset público (e.g., Kaggle, UCI).\n",
        "\n",
        "Realizar las siguientes tareas:\n",
        "1. Feature Engineering: Crear al menos 3 nuevas columnas relevantes.\n",
        "2. Selección/Reducción: Aplicar PCA o RFE para reducir dimensionalidad.\n",
        "3. Optimización: Ejecutar Grid Search o Random Search.\n",
        "4. Evaluación: Comparar métrica final con la configuración inicial.\n",
        "5. Entregar un notebook con todos los pasos documentados y conclusiones.\n"
      ],
      "metadata": {
        "id": "unCyyo8XJobo"
      }
    },
    {
      "cell_type": "code",
      "execution_count": null,
      "metadata": {
        "id": "G4v2W2MmJmok"
      },
      "outputs": [],
      "source": []
    }
  ]
}
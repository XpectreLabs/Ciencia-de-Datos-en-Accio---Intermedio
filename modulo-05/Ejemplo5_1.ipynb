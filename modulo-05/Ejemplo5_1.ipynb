{
  "nbformat": 4,
  "nbformat_minor": 0,
  "metadata": {
    "colab": {
      "provenance": []
    },
    "kernelspec": {
      "name": "python3",
      "display_name": "Python 3"
    },
    "language_info": {
      "name": "python"
    }
  },
  "cells": [
    {
      "cell_type": "markdown",
      "source": [
        "# Feature Engineering con un Dataset de Ventas\n",
        "\n",
        "En este ejercicio, aplicaremos técnicas de feature engineering a un dataset de ventas.\n",
        "Se creará una columna logarítmica de ventas, se generarán interacciones entre ventas y precio unitario,\n",
        "y se aplicará One-Hot Encoding a la variable categórica 'región'.\n",
        "\n",
        "Tareas:\n",
        "1. Crear una columna logarítmica de ventas.\n",
        "2. Generar una nueva característica que sea la interacción entre ventas y precio unitario.\n",
        "3. Aplicar One-Hot Encoding a la columna 'region'.\n",
        "4. Mostrar el DataFrame final con las transformaciones."
      ],
      "metadata": {
        "id": "XLh5XMVLtngw"
      }
    },
    {
      "cell_type": "code",
      "execution_count": 1,
      "metadata": {
        "id": "Ft5HJGYytmeL"
      },
      "outputs": [],
      "source": [
        "# Paso 1: Importar las librerías necesarias\n",
        "# -------------------------------------------\n",
        "import pandas as pd\n",
        "import numpy as np\n",
        "\n",
        "# Paso 2: Crear el DataFrame con el dataset\n",
        "# -------------------------------------------\n",
        "# Dataset de ventas con columnas de ventas, precio unitario y región.\n",
        "data = {\n",
        "    'ventas': [100, 200, 300, 400],\n",
        "    'precio_unitario': [10, 20, 15, 25],\n",
        "    'region': ['Norte', 'Sur', 'Norte', 'Este']\n",
        "}\n",
        "\n",
        "df = pd.DataFrame(data)"
      ]
    },
    {
      "cell_type": "code",
      "source": [
        "# Paso 3: Crear una columna logarítmica de ventas\n",
        "# -------------------------------------------\n",
        "# Transformación logarítmica de la columna 'ventas'.\n",
        "df['log_ventas'] = np.log(df['ventas'])"
      ],
      "metadata": {
        "id": "8gxH2Zm8t4iU"
      },
      "execution_count": 2,
      "outputs": []
    },
    {
      "cell_type": "code",
      "source": [
        "# Paso 4: Generar una interacción entre ventas y precio unitario\n",
        "# -------------------------------------------\n",
        "# La nueva columna 'ventas_x_precio' es el producto de 'ventas' y 'precio_unitario'.\n",
        "df['ventas_x_precio'] = df['ventas'] * df['precio_unitario']"
      ],
      "metadata": {
        "id": "XcTkwnLBt6g-"
      },
      "execution_count": 3,
      "outputs": []
    },
    {
      "cell_type": "code",
      "source": [
        "# Paso 5: Aplicar One-Hot Encoding a la columna 'region'\n",
        "# -------------------------------------------\n",
        "# Convertimos la columna 'region' en variables dummy (0 o 1) para cada categoría.\n",
        "df = pd.get_dummies(df, columns=['region'], prefix='region')\n",
        "print(df)"
      ],
      "metadata": {
        "colab": {
          "base_uri": "https://localhost:8080/"
        },
        "id": "q2jyMxE-t8Jv",
        "outputId": "f8bf597f-6ec9-463b-e0fe-90ba7d1e7692"
      },
      "execution_count": 4,
      "outputs": [
        {
          "output_type": "stream",
          "name": "stdout",
          "text": [
            "   ventas  precio_unitario  log_ventas  ventas_x_precio  region_Este  \\\n",
            "0     100               10    4.605170             1000        False   \n",
            "1     200               20    5.298317             4000        False   \n",
            "2     300               15    5.703782             4500        False   \n",
            "3     400               25    5.991465            10000         True   \n",
            "\n",
            "   region_Norte  region_Sur  \n",
            "0          True       False  \n",
            "1         False        True  \n",
            "2          True       False  \n",
            "3         False       False  \n"
          ]
        }
      ]
    }
  ]
}
{
  "nbformat": 4,
  "nbformat_minor": 0,
  "metadata": {
    "colab": {
      "provenance": []
    },
    "kernelspec": {
      "name": "python3",
      "display_name": "Python 3"
    },
    "language_info": {
      "name": "python"
    }
  },
  "cells": [
    {
      "cell_type": "markdown",
      "source": [
        "# Ejemplo 5.4: Evaluación, Comparación y Selección de Modelos con Random Forest y Optimización\n",
        "\n",
        "Descripción:\n",
        "En este ejercicio, se entrenará un modelo de Random Forest sin optimización de hiperparámetros\n",
        "y otro con optimización mediante GridSearchCV. Además, se analizarán las curvas de aprendizaje,\n",
        "se compararán los resultados del modelo antes y después de la optimización, y se evaluará la\n",
        "importancia de las características.\n"
      ],
      "metadata": {
        "id": "0d6BBhxsFkZB"
      }
    },
    {
      "cell_type": "code",
      "execution_count": 1,
      "metadata": {
        "id": "S8RVKBNYFR1r"
      },
      "outputs": [],
      "source": [
        "# Paso 1: Importar librerías necesarias\n",
        "# -------------------------------------------\n",
        "import pandas as pd\n",
        "from sklearn.datasets import load_iris\n",
        "from sklearn.model_selection import train_test_split, GridSearchCV\n",
        "from sklearn.ensemble import RandomForestClassifier\n",
        "from sklearn.metrics import accuracy_score\n",
        "import matplotlib.pyplot as plt\n",
        "from sklearn.model_selection import learning_curve\n",
        "import numpy as np\n",
        "\n",
        "# Paso 2: Cargar el conjunto de datos Iris\n",
        "# -------------------------------------------\n",
        "iris = load_iris()\n",
        "X = iris.data\n",
        "y = iris.target"
      ]
    },
    {
      "cell_type": "code",
      "source": [
        "# Paso 3: Dividir los datos en conjunto de entrenamiento y prueba\n",
        "# -------------------------------------------\n",
        "X_train, X_test, y_train, y_test = train_test_split(X, y, test_size=0.3, random_state=42)\n",
        "\n",
        "# Paso 4: Entrenar un modelo de Random Forest sin optimización de hiperparámetros\n",
        "# -------------------------------------------\n",
        "rf_model = RandomForestClassifier(random_state=42)\n",
        "rf_model.fit(X_train, y_train)\n",
        "# Evaluar el modelo sin optimización\n",
        "y_pred = rf_model.predict(X_test)\n",
        "accuracy_no_optimization = accuracy_score(y_test, y_pred)\n",
        "\n",
        "print(\"Precisión sin optimización de hiperparámetros:\", accuracy_no_optimization)\n"
      ],
      "metadata": {
        "colab": {
          "base_uri": "https://localhost:8080/"
        },
        "id": "nIfmYRlEFr5N",
        "outputId": "0b5a5624-f1f8-4862-e6bb-80eaa4ac1395"
      },
      "execution_count": 2,
      "outputs": [
        {
          "output_type": "stream",
          "name": "stdout",
          "text": [
            "Precisión sin optimización de hiperparámetros: 1.0\n"
          ]
        }
      ]
    },
    {
      "cell_type": "code",
      "source": [
        "# Paso 5: Optimizar el modelo de Random Forest usando GridSearchCV\n",
        "# -------------------------------------------\n",
        "param_grid = {\n",
        "    'n_estimators': [50, 100, 200],\n",
        "    'max_depth': [None, 10, 20],\n",
        "    'min_samples_split': [2, 5]\n",
        "}\n",
        "\n",
        "grid_search = GridSearchCV(estimator=rf_model, param_grid=param_grid, cv=5)\n",
        "grid_search.fit(X_train, y_train)\n",
        "\n",
        "# Evaluar el modelo optimizado\n",
        "best_rf_model = grid_search.best_estimator_\n",
        "y_pred_optimized = best_rf_model.predict(X_test)\n",
        "accuracy_optimized = accuracy_score(y_test, y_pred_optimized)\n",
        "\n",
        "print(\"Precisión con optimización de hiperparámetros:\", accuracy_optimized)\n",
        "print(\"Mejores hiperparámetros encontrados:\", grid_search.best_params_)\n"
      ],
      "metadata": {
        "colab": {
          "base_uri": "https://localhost:8080/"
        },
        "id": "2OG7SZrfFsTb",
        "outputId": "91c55377-8cf8-43ef-a108-511a5d0e229d"
      },
      "execution_count": 3,
      "outputs": [
        {
          "output_type": "stream",
          "name": "stdout",
          "text": [
            "Precisión con optimización de hiperparámetros: 1.0\n",
            "Mejores hiperparámetros encontrados: {'max_depth': None, 'min_samples_split': 2, 'n_estimators': 100}\n"
          ]
        }
      ]
    },
    {
      "cell_type": "code",
      "source": [
        "# Paso 6: Comparar los resultados del modelo sin optimización vs con optimización\n",
        "# -------------------------------------------\n",
        "print(\"\\nComparación de resultados:\")\n",
        "print(f\"Precisión sin optimización: {accuracy_no_optimization:.4f}\")\n",
        "print(f\"Precisión con optimización: {accuracy_optimized:.4f}\")\n"
      ],
      "metadata": {
        "colab": {
          "base_uri": "https://localhost:8080/"
        },
        "id": "sRXuwDNIF4QY",
        "outputId": "1567981f-26f0-4125-df99-af89efa19f70"
      },
      "execution_count": 4,
      "outputs": [
        {
          "output_type": "stream",
          "name": "stdout",
          "text": [
            "\n",
            "Comparación de resultados:\n",
            "Precisión sin optimización: 1.0000\n",
            "Precisión con optimización: 1.0000\n"
          ]
        }
      ]
    },
    {
      "cell_type": "code",
      "source": [
        "\n",
        "# Paso 7: Analizar las curvas de aprendizaje\n",
        "# -------------------------------------------\n",
        "train_sizes, train_scores, test_scores = learning_curve(\n",
        "    best_rf_model, X, y, cv=5, n_jobs=-1, train_sizes=np.linspace(0.1, 1.0, 10)\n",
        ")\n",
        "\n",
        "# Promedio de puntuaciones para entrenamiento y prueba\n",
        "train_mean = np.mean(train_scores, axis=1)\n",
        "test_mean = np.mean(test_scores, axis=1)\n",
        "\n",
        "# Graficar la curva de aprendizaje\n",
        "plt.figure(figsize=(8, 6))\n",
        "plt.plot(train_sizes, train_mean, label=\"Precisión en entrenamiento\", color=\"blue\")\n",
        "plt.plot(train_sizes, test_mean, label=\"Precisión en prueba\", color=\"green\")\n",
        "plt.title(\"Curva de Aprendizaje\")\n",
        "plt.xlabel(\"Tamaño del conjunto de entrenamiento\")\n",
        "plt.ylabel(\"Precisión\")\n",
        "plt.legend()\n",
        "plt.show()"
      ],
      "metadata": {
        "colab": {
          "base_uri": "https://localhost:8080/",
          "height": 564
        },
        "id": "lr-M_oQIF0UL",
        "outputId": "ffbbcdb9-192c-4fe2-f638-1977da2eb0dd"
      },
      "execution_count": 5,
      "outputs": [
        {
          "output_type": "display_data",
          "data": {
            "text/plain": [
              "<Figure size 800x600 with 1 Axes>"
            ],
            "image/png": "[encoded data removed]"
          },
          "metadata": {}
        }
      ]
    },
    {
      "cell_type": "code",
      "source": [
        "# Paso 8: Evaluar la importancia de las características\n",
        "# -------------------------------------------\n",
        "importances = best_rf_model.feature_importances_\n",
        "features = iris.feature_names\n",
        "\n",
        "# Mostrar la importancia de cada característica\n",
        "feature_importance_df = pd.DataFrame({\n",
        "    'Característica': features,\n",
        "    'Importancia': importances\n",
        "})\n",
        "\n",
        "# Ordenar por la importancia\n",
        "feature_importance_df = feature_importance_df.sort_values(by='Importancia', ascending=False)\n",
        "print(\"\\nImportancia de las características:\")\n",
        "print(feature_importance_df)\n"
      ],
      "metadata": {
        "colab": {
          "base_uri": "https://localhost:8080/"
        },
        "id": "qY3nybW2F5ts",
        "outputId": "c838828f-adb1-4cf7-852e-ff4c76509fc2"
      },
      "execution_count": 6,
      "outputs": [
        {
          "output_type": "stream",
          "name": "stdout",
          "text": [
            "\n",
            "Importancia de las características:\n",
            "      Característica  Importancia\n",
            "3   petal width (cm)     0.433982\n",
            "2  petal length (cm)     0.417308\n",
            "0  sepal length (cm)     0.104105\n",
            "1   sepal width (cm)     0.044605\n"
          ]
        }
      ]
    },
    {
      "cell_type": "code",
      "source": [
        "# Paso 9: Evaluar el sesgo y la varianza\n",
        "# -------------------------------------------\n",
        "# Si el modelo tiene un alto rendimiento en los datos de entrenamiento pero no en los de prueba,\n",
        "# es posible que haya sobreajuste (alta varianza). Si el rendimiento es bajo en ambos, puede ser\n",
        "# que el modelo esté subajustado (alto sesgo).\n",
        "print(\"\\nEvaluación de sesgo y varianza:\")\n",
        "print(f\"Precisión en entrenamiento: {train_mean[-1]:.4f}\")\n",
        "print(f\"Precisión en prueba: {test_mean[-1]:.4f}\")"
      ],
      "metadata": {
        "colab": {
          "base_uri": "https://localhost:8080/"
        },
        "id": "0uYuTmgjF8N3",
        "outputId": "693d1dff-0211-4097-c584-28cb0026df0c"
      },
      "execution_count": 7,
      "outputs": [
        {
          "output_type": "stream",
          "name": "stdout",
          "text": [
            "\n",
            "Evaluación de sesgo y varianza:\n",
            "Precisión en entrenamiento: 1.0000\n",
            "Precisión en prueba: 0.9667\n"
          ]
        }
      ]
    }
  ]
}
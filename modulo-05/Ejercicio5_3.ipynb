{
  "cells": [
    {
      "cell_type": "markdown",
      "metadata": {
        "id": "rp6yKfJj_UAf"
      },
      "source": [
        "# Ejercicio 5.3: Optimización de Hiperparámetros con Random Forest\n",
        "### Objetivo\n",
        "1. Definir un espacio de búsqueda de hiperparámetros para un modelo Random Forest.\n",
        "2. Ejecutar Grid Search o Random Search para optimizar el modelo.\n",
        "3. Evaluar el modelo optimizado en el conjunto de prueba.\n",
        "\n",
        "### Instrucciones\n",
        "1. Completa los pasos indicados en cada celda para realizar la optimización.\n"
      ]
    },
    {
      "cell_type": "code",
      "execution_count": null,
      "metadata": {
        "id": "3mw_dKlM_UAh"
      },
      "outputs": [],
      "source": [
        "# Paso 1: Importar librerías y cargar datos\n",
        "from sklearn.datasets import load_iris\n",
        "from sklearn.model_selection import train_test_split, GridSearchCV\n",
        "from sklearn.ensemble import RandomForestClassifier\n",
        "\n",
        "iris = load_iris()"
      ]
    },
    {
      "cell_type": "code",
      "execution_count": null,
      "metadata": {
        "id": "--xYEP_N_UAi"
      },
      "outputs": [],
      "source": [
        "# Paso 2: Definir el espacio de búsqueda y ejecutar Grid Search o Random Search\n",
        "# COMPLETA: Define un diccionario de hiperparámetros\n"
      ]
    },
    {
      "cell_type": "code",
      "execution_count": null,
      "metadata": {
        "id": "zpDoRQ_e_UAj"
      },
      "outputs": [],
      "source": [
        "# Paso 3: Evaluar el modelo optimizado\n",
        "# COMPLETA: Evalúa el modelo optimizado en el conjunto de prueba\n"
      ]
    }
  ],
  "metadata": {
    "colab": {
      "provenance": []
    },
    "language_info": {
      "name": "python"
    },
    "kernelspec": {
      "name": "python3",
      "display_name": "Python 3"
    }
  },
  "nbformat": 4,
  "nbformat_minor": 0
}
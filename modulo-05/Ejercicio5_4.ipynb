{
  "cells": [
    {
      "cell_type": "markdown",
      "metadata": {
        "id": "bjjxkmoJGt81"
      },
      "source": [
        "# Ejercicio 5.4: Evaluación y Comparación de Modelos\n",
        "### Objetivo\n",
        "1. Comparar el rendimiento de un modelo Random Forest antes y después de la optimización.\n",
        "2. Graficar la curva de aprendizaje del modelo optimizado.\n",
        "\n",
        "### Instrucciones\n",
        "1. Completa los pasos en cada celda para realizar las tareas requeridas.\n"
      ]
    },
    {
      "cell_type": "code",
      "execution_count": null,
      "metadata": {
        "id": "fjdFrdV4Gt83"
      },
      "outputs": [],
      "source": [
        "# Paso 1: Importar librerías y cargar datos\n",
        "from sklearn.datasets import load_iris\n",
        "\n",
        "\n",
        "iris = load_iris()\n"
      ]
    },
    {
      "cell_type": "code",
      "execution_count": null,
      "metadata": {
        "id": "m796MDBwGt84"
      },
      "outputs": [],
      "source": [
        "# Paso 2: Entrenar un modelo con configuración inicial\n",
        "# COMPLETA: Entrena un modelo Random Forest con valores predeterminados\n"
      ]
    },
    {
      "cell_type": "code",
      "execution_count": null,
      "metadata": {
        "id": "Ci1Fd52iGt84"
      },
      "outputs": [],
      "source": [
        "# Paso 3: Optimizar el modelo usando Random Search\n",
        "# COMPLETA: Define un espacio de búsqueda y ejecuta RandomizedSearchCV\n"
      ]
    },
    {
      "cell_type": "code",
      "execution_count": null,
      "metadata": {
        "id": "TGFuH5UVGt84"
      },
      "outputs": [],
      "source": [
        "# Paso 4: Graficar la curva de aprendizaje del modelo optimizado\n",
        "# COMPLETA: Genera la curva de aprendizaje\n"
      ]
    }
  ],
  "metadata": {
    "colab": {
      "provenance": []
    },
    "language_info": {
      "name": "python"
    },
    "kernelspec": {
      "name": "python3",
      "display_name": "Python 3"
    }
  },
  "nbformat": 4,
  "nbformat_minor": 0
}
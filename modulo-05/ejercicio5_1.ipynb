{
  "cells": [
    {
      "cell_type": "markdown",
      "metadata": {
        "id": "uELMmfSHzUkT"
      },
      "source": [
        "# Ejercicio 5.1: Feature Engineering con un Dataset de Ventas\n",
        "### Objetivo\n",
        "1. Crear dos nuevas columnas basadas en transformaciones matemáticas.\n",
        "2. Generar interacciones entre variables.\n",
        "3. Codificar una variable categórica usando One-Hot Encoding.\n",
        "\n",
        "### Instrucciones\n",
        "1. Carga el dataset proporcionado.\n",
        "2. Completa los pasos indicados para realizar las transformaciones y codificaciones."
      ]
    },
    {
      "cell_type": "code",
      "execution_count": null,
      "metadata": {
        "id": "bpelLftpzUkV"
      },
      "outputs": [],
      "source": [
        "# Paso 1: Importar librerías y cargar datos\n",
        "import pandas as pd\n",
        "import numpy as np\n",
        "\n",
        "# Dataset inicial\n",
        "data = {'ventas': [150, 250, 350, 450],\n",
        "        'precio_unitario': [12, 18, 22, 30],\n",
        "        'region': ['Norte', 'Sur', 'Este', 'Oeste']}\n",
        "df = pd.DataFrame(data)\n",
        "print(df)"
      ]
    },
    {
      "cell_type": "code",
      "execution_count": null,
      "metadata": {
        "id": "b3xjuxzQzUkX"
      },
      "outputs": [],
      "source": [
        "# Paso 2: Crear transformaciones matemáticas\n",
        "# COMPLETA: Crear una columna logarítmica de 'ventas'\n",
        "# COMPLETA: Crear una columna raíz cuadrada de 'precio_unitario'\n"
      ]
    },
    {
      "cell_type": "code",
      "execution_count": null,
      "metadata": {
        "id": "zs35i3v6zUkY"
      },
      "outputs": [],
      "source": [
        "# Paso 3: Crear interacciones entre variables\n",
        "# COMPLETA: Crear una columna que sea el producto de 'ventas' y 'precio_unitario'\n"
      ]
    },
    {
      "cell_type": "code",
      "execution_count": null,
      "metadata": {
        "id": "h4lmYzazzUkY"
      },
      "outputs": [],
      "source": [
        "# Paso 4: Codificar una variable categórica\n",
        "# COMPLETA: Aplicar One-Hot Encoding a 'region'\n"
      ]
    }
  ],
  "metadata": {
    "colab": {
      "provenance": []
    }
  },
  "nbformat": 4,
  "nbformat_minor": 0
}
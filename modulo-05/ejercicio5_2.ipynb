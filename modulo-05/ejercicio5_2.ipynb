{
  "cells": [
    {
      "cell_type": "markdown",
      "metadata": {
        "id": "99n_tZ9C4Lb1"
      },
      "source": [
        "# Ejercicio 5.2: Selección de Características y Reducción de Dimensionalidad\n",
        "### Objetivo\n",
        "1. Calcular la correlación entre las variables y la variable objetivo.\n",
        "2. Seleccionar las dos características más importantes usando RFE.\n",
        "3. Reducir las dimensiones usando PCA manteniendo el 90% de la varianza explicada.\n",
        "\n",
        "### Instrucciones\n",
        "1. Completa los pasos en cada celda para realizar las tareas requeridas.\n"
      ]
    },
    {
      "cell_type": "code",
      "execution_count": null,
      "metadata": {
        "id": "ydiGbUmB4Lb2"
      },
      "outputs": [],
      "source": [
        "# Paso 1: Importar librerías y cargar datos\n",
        "import pandas as pd\n",
        "import numpy as np\n",
        "\n",
        "data = {\n",
        "    'X1': [1, 2, 3, 4, 5],\n",
        "    'X2': [2, 4, 6, 8, 10],\n",
        "    'X3': [5, 3, 6, 2, 1],\n",
        "    'y': [10, 20, 30, 40, 50]\n",
        "}\n",
        "df = pd.DataFrame(data)\n",
        "print(df.head())"
      ]
    },
    {
      "cell_type": "code",
      "execution_count": null,
      "metadata": {
        "id": "mZBuf4eW4Lb3"
      },
      "outputs": [],
      "source": [
        "# Paso 2: Calcular correlación\n",
        "# COMPLETA: Calcula la correlación entre las variables\n"
      ]
    },
    {
      "cell_type": "code",
      "execution_count": null,
      "metadata": {
        "id": "qWCQHsoF4Lb3"
      },
      "outputs": [],
      "source": [
        "# Paso 3: Selección con RFE\n",
        "# COMPLETA: Selecciona las 2 características más importantes\n"
      ]
    },
    {
      "cell_type": "code",
      "execution_count": null,
      "metadata": {
        "id": "70eo4kXk4Lb3"
      },
      "outputs": [],
      "source": [
        "# Paso 4: Reducción de dimensionalidad con PCA\n",
        "# COMPLETA: Aplica PCA y muestra la varianza explicada\n"
      ]
    }
  ],
  "metadata": {
    "colab": {
      "provenance": []
    }
  },
  "nbformat": 4,
  "nbformat_minor": 0
}